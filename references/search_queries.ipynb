{
 "cells": [
  {
   "cell_type": "markdown",
   "id": "d6ed93da-4eab-4838-a8e2-4f0f5cb99307",
   "metadata": {},
   "source": [
    "# Queries for input and output of search bar "
   ]
  },
  {
   "cell_type": "code",
   "execution_count": 12,
   "id": "214ea058-6863-4744-a6cd-a3da55b0f701",
   "metadata": {
    "tags": [
     "hide-input"
    ]
   },
   "outputs": [],
   "source": [
    "import psycopg2\n",
    "import pandas as pd \n",
    "import sqlalchemy as salc\n",
    "import numpy as np\n",
    "import json\n",
    "import os\n",
    "import matplotlib.pyplot as plt\n",
    "import datetime\n",
    "plt.rcParams['figure.figsize'] = (15, 5)\n",
    "\n",
    "with open(\"copy_cage.json\") as config_file:\n",
    "    config = json.load(config_file)"
   ]
  },
  {
   "cell_type": "code",
   "execution_count": 2,
   "id": "a2f31b7d-4251-42e1-9387-e638daa7ed04",
   "metadata": {
    "tags": [
     "hide-input"
    ]
   },
   "outputs": [],
   "source": [
    "database_connection_string = 'postgresql+psycopg2://{}:{}@{}:{}/{}'.format(config['user'], config['password'], config['host'], config['port'], config['database'])\n",
    "\n",
    "dbschema='augur_data'\n",
    "engine = salc.create_engine(\n",
    "    database_connection_string,\n",
    "    connect_args={'options': '-csearch_path={}'.format(dbschema)})"
   ]
  },
  {
   "cell_type": "code",
   "execution_count": 3,
   "id": "8032fd45-2c03-4ff4-9be7-cd713432140b",
   "metadata": {},
   "outputs": [
    {
     "name": "stdout",
     "output_type": "stream",
     "text": [
      "r.repo_git = 'https://github.com/ansible/ansible' OR\n",
      "\t\tr.repo_git = 'https://github.com/pulp/pulp-infra-ansible' OR\n",
      "\t\tr.repo_git = 'https://github.com/chaoss/augur' \n",
      "rg.rg_name = 'aeshell' OR\n",
      "\t\trg.rg_name = 'candlepin' \n"
     ]
    }
   ],
   "source": [
    "search_results = ['https://github.com/ansible/ansible','https://github.com/pulp/pulp-infra-ansible','https://github.com/chaoss/augur','aeshell', 'candlepin']\n",
    "repo_git_set = []\n",
    "org_name_set = []\n",
    "\n",
    "for r in search_results: \n",
    "    if r.startswith('http'):\n",
    "        repo_git_set.append(r)\n",
    "    else: \n",
    "        org_name_set.append(r)\n",
    "\n",
    "url_query = 'r.repo_git = '\n",
    "for repo_git in repo_git_set:\n",
    "    url_query+= '\\''\n",
    "    url_query+=repo_git\n",
    "    url_query+='\\' OR\\n\\t\\tr.repo_git = '\n",
    "    \n",
    "url_query = url_query[:-18]\n",
    "\n",
    "name_query = \"rg.rg_name = \"\n",
    "for name in org_name_set:\n",
    "    name_query+= '\\''\n",
    "    name_query+=name\n",
    "    name_query+='\\' OR\\n\\t\\trg.rg_name = '\n",
    "\n",
    "name_query = name_query[:-18]\n",
    "    \n",
    "print(url_query)\n",
    "print(name_query)"
   ]
  },
  {
   "cell_type": "code",
   "execution_count": 4,
   "id": "5fd0f03e-36cb-42c0-8457-1e8ed67a8845",
   "metadata": {},
   "outputs": [
    {
     "name": "stdout",
     "output_type": "stream",
     "text": [
      "[27515, 28336, 36113]\n",
      "['pulp-infra-ansible', 'ansible', 'augur']\n"
     ]
    }
   ],
   "source": [
    "#save\n",
    "repo_query = salc.sql.text(f\"\"\"\n",
    "        SET SCHEMA 'augur_data';\n",
    "        SELECT DISTINCT\n",
    "            r.repo_id,\n",
    "            r.repo_name\n",
    "        FROM\n",
    "            repo r\n",
    "        JOIN repo_groups rg ON r.repo_group_id = rg.repo_group_id\n",
    "        WHERE\n",
    "            {url_query}\n",
    "        \"\"\")\n",
    "\n",
    "\n",
    "t = engine.execute(repo_query)\n",
    "results = t.all()\n",
    "repo_ids = [ row[0] for row in results]\n",
    "repo_names = [ row[1] for row in results]\n",
    "\n",
    "print(repo_ids)\n",
    "print(repo_names)"
   ]
  },
  {
   "cell_type": "code",
   "execution_count": 5,
   "id": "87e3427b-860c-4675-9d9d-a093a252082d",
   "metadata": {
    "tags": []
   },
   "outputs": [
    {
     "name": "stdout",
     "output_type": "stream",
     "text": [
      "[25453, 25454, 25455, 25456, 25457, 25458, 25459, 25460, 25461, 25462, 25463, 25464, 25465, 25466, 25467, 25468, 25469, 25470, 25471, 25472, 25473, 25474, 25475, 25476, 25477, 25478, 25479, 25480, 25481, 25482, 25483, 34145, 34146, 34147, 34148, 34149, 34150, 34151, 34152, 34153, 34154]\n",
      "['ansible-role-subman-devel', 'candlepin-deps', 'dependencies', 'python-rhsm', 'candlepin-macros', 'candlepinproject.org', 'candlepin', 'patternfly-react', 'ansible-role-candlepin', 'candlepin-client-java', 'oauth-java-ant', 'zanata-python-client', 'rho', 'caracalla', 'anaconda-addon-development-guide', 'packer', 'initial-setup-port', 'fh-pipeline-library', 'subscription-manager', 'intellij', 'netty-ant', 'pack-utils', 'virt-whom', 'sat5to6', 'virt-who', 'akuma', 'candlepin-jobs', 'openshift-plantuml-cartridge', 'thumbslug', 'python-iniparse', 'openshift-graphviz-cartridge', 'aesh-readline', 'aesh', 'mterm', 'aesh-examples', 'nanook', 'aesh-jvm-tools', 'scalaesh', 'aeshell', 'aesh-extensions', 'examples']\n"
     ]
    }
   ],
   "source": [
    "org_query = salc.sql.text(f\"\"\"\n",
    "        SET SCHEMA 'augur_data';\n",
    "        SELECT DISTINCT\n",
    "            r.repo_id,\n",
    "            r.repo_name\n",
    "        FROM\n",
    "            repo r\n",
    "        JOIN repo_groups rg ON r.repo_group_id = rg.repo_group_id\n",
    "        WHERE\n",
    "            {name_query}\n",
    "        \"\"\")\n",
    "\n",
    "\n",
    "t = engine.execute(org_query)\n",
    "results = t.all()\n",
    "org_repo_ids = [ row[0] for row in results]\n",
    "org_repo_names = [ row[1] for row in results]\n",
    "\n",
    "print(org_repo_ids)\n",
    "print(org_repo_names)"
   ]
  },
  {
   "cell_type": "code",
   "execution_count": 6,
   "id": "2f89175f-45d9-4e2a-b3f4-9a0b2af224b0",
   "metadata": {},
   "outputs": [
    {
     "name": "stdout",
     "output_type": "stream",
     "text": [
      "[27515, 28336, 36113, 25453, 25454, 25455, 25456, 25457, 25458, 25459, 25460, 25461, 25462, 25463, 25464, 25465, 25466, 25467, 25468, 25469, 25470, 25471, 25472, 25473, 25474, 25475, 25476, 25477, 25478, 25479, 25480, 25481, 25482, 25483, 34145, 34146, 34147, 34148, 34149, 34150, 34151, 34152, 34153, 34154]\n",
      "['pulp-infra-ansible', 'ansible', 'augur', 'ansible-role-subman-devel', 'candlepin-deps', 'dependencies', 'python-rhsm', 'candlepin-macros', 'candlepinproject.org', 'candlepin', 'patternfly-react', 'ansible-role-candlepin', 'candlepin-client-java', 'oauth-java-ant', 'zanata-python-client', 'rho', 'caracalla', 'anaconda-addon-development-guide', 'packer', 'initial-setup-port', 'fh-pipeline-library', 'subscription-manager', 'intellij', 'netty-ant', 'pack-utils', 'virt-whom', 'sat5to6', 'virt-who', 'akuma', 'candlepin-jobs', 'openshift-plantuml-cartridge', 'thumbslug', 'python-iniparse', 'openshift-graphviz-cartridge', 'aesh-readline', 'aesh', 'mterm', 'aesh-examples', 'nanook', 'aesh-jvm-tools', 'scalaesh', 'aeshell', 'aesh-extensions', 'examples']\n"
     ]
    }
   ],
   "source": [
    "total_ids = repo_ids + org_repo_ids\n",
    "total_names = repo_names + org_repo_names  \n",
    "print(total_ids)\n",
    "print(total_names)"
   ]
  },
  {
   "cell_type": "code",
   "execution_count": 7,
   "id": "5d8a4d3c-19e9-4a2b-9f8a-79a083eb69dc",
   "metadata": {},
   "outputs": [
    {
     "data": {
      "text/html": [
       "<div>\n",
       "<style scoped>\n",
       "    .dataframe tbody tr th:only-of-type {\n",
       "        vertical-align: middle;\n",
       "    }\n",
       "\n",
       "    .dataframe tbody tr th {\n",
       "        vertical-align: top;\n",
       "    }\n",
       "\n",
       "    .dataframe thead th {\n",
       "        text-align: right;\n",
       "    }\n",
       "</style>\n",
       "<table border=\"1\" class=\"dataframe\">\n",
       "  <thead>\n",
       "    <tr style=\"text-align: right;\">\n",
       "      <th></th>\n",
       "      <th>repo_git</th>\n",
       "      <th>rg_name</th>\n",
       "    </tr>\n",
       "  </thead>\n",
       "  <tbody>\n",
       "    <tr>\n",
       "      <th>0</th>\n",
       "      <td>https://github.com/3scale/3scale-amp-openshift...</td>\n",
       "      <td>3scale</td>\n",
       "    </tr>\n",
       "    <tr>\n",
       "      <th>1</th>\n",
       "      <td>https://github.com/3scale/3scale-api-python</td>\n",
       "      <td>3scale</td>\n",
       "    </tr>\n",
       "    <tr>\n",
       "      <th>2</th>\n",
       "      <td>https://github.com/3scale/3scale-api-ruby</td>\n",
       "      <td>3scale</td>\n",
       "    </tr>\n",
       "    <tr>\n",
       "      <th>3</th>\n",
       "      <td>https://github.com/3scale/3scale.github.io</td>\n",
       "      <td>3scale</td>\n",
       "    </tr>\n",
       "    <tr>\n",
       "      <th>4</th>\n",
       "      <td>https://github.com/3scale/3scale-go-client</td>\n",
       "      <td>3scale</td>\n",
       "    </tr>\n",
       "    <tr>\n",
       "      <th>...</th>\n",
       "      <td>...</td>\n",
       "      <td>...</td>\n",
       "    </tr>\n",
       "    <tr>\n",
       "      <th>10682</th>\n",
       "      <td>https://github.com/zerodayz/sosreport-operator</td>\n",
       "      <td>zerodayz</td>\n",
       "    </tr>\n",
       "    <tr>\n",
       "      <th>10683</th>\n",
       "      <td>https://github.com/zerodayz/talos</td>\n",
       "      <td>zerodayz</td>\n",
       "    </tr>\n",
       "    <tr>\n",
       "      <th>10684</th>\n",
       "      <td>https://github.com/zerodayz/tests</td>\n",
       "      <td>zerodayz</td>\n",
       "    </tr>\n",
       "    <tr>\n",
       "      <th>10685</th>\n",
       "      <td>https://github.com/zerodayz/web</td>\n",
       "      <td>zerodayz</td>\n",
       "    </tr>\n",
       "    <tr>\n",
       "      <th>10686</th>\n",
       "      <td>https://github.com/zerodayz/zerodayz.gitlab.io</td>\n",
       "      <td>zerodayz</td>\n",
       "    </tr>\n",
       "  </tbody>\n",
       "</table>\n",
       "<p>10687 rows × 2 columns</p>\n",
       "</div>"
      ],
      "text/plain": [
       "                                                repo_git   rg_name\n",
       "0      https://github.com/3scale/3scale-amp-openshift...    3scale\n",
       "1            https://github.com/3scale/3scale-api-python    3scale\n",
       "2              https://github.com/3scale/3scale-api-ruby    3scale\n",
       "3             https://github.com/3scale/3scale.github.io    3scale\n",
       "4             https://github.com/3scale/3scale-go-client    3scale\n",
       "...                                                  ...       ...\n",
       "10682     https://github.com/zerodayz/sosreport-operator  zerodayz\n",
       "10683                  https://github.com/zerodayz/talos  zerodayz\n",
       "10684                  https://github.com/zerodayz/tests  zerodayz\n",
       "10685                    https://github.com/zerodayz/web  zerodayz\n",
       "10686     https://github.com/zerodayz/zerodayz.gitlab.io  zerodayz\n",
       "\n",
       "[10687 rows x 2 columns]"
      ]
     },
     "execution_count": 7,
     "metadata": {},
     "output_type": "execute_result"
    }
   ],
   "source": [
    "pr_query = salc.sql.text(f\"\"\"\n",
    "    SET SCHEMA 'augur_data';\n",
    "        SELECT DISTINCT\n",
    "            r.repo_git,\n",
    "            rg.rg_name \n",
    "        FROM\n",
    "            repo r\n",
    "        JOIN repo_groups rg\n",
    "        ON rg.repo_group_id = r.repo_group_id\n",
    "        ORDER BY rg.rg_name\n",
    "        \"\"\")\n",
    "df_search_bar = pd.read_sql(pr_query, con=engine)\n",
    "\n",
    "df_search_bar"
   ]
  },
  {
   "cell_type": "code",
   "execution_count": 17,
   "id": "38792cd3-6037-4e86-b395-842f1d147253",
   "metadata": {},
   "outputs": [],
   "source": [
    "entries = np.concatenate(( df_search_bar.rg_name.unique() , df_search_bar.repo_git.unique() ), axis=None)\n",
    "entries = entries.tolist()"
   ]
  },
  {
   "cell_type": "code",
   "execution_count": null,
   "id": "877bccaf-532f-4fd1-bd17-37f492e9a418",
   "metadata": {},
   "outputs": [],
   "source": []
  }
 ],
 "metadata": {
  "kernelspec": {
   "display_name": "Python 3 (ipykernel)",
   "language": "python",
   "name": "python3"
  },
  "language_info": {
   "codemirror_mode": {
    "name": "ipython",
    "version": 3
   },
   "file_extension": ".py",
   "mimetype": "text/x-python",
   "name": "python",
   "nbconvert_exporter": "python",
   "pygments_lexer": "ipython3",
   "version": "3.8.8"
  }
 },
 "nbformat": 4,
 "nbformat_minor": 5
}
