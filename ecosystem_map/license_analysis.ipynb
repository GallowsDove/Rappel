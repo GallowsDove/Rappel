{
 "cells": [
  {
   "cell_type": "markdown",
   "id": "3e54260c-46a2-4f2c-b15b-54dc1f8cbc06",
   "metadata": {},
   "source": [
    "# Open Source Project License Analysis \n",
    "\n",
    "**Github Projects Only (for the time being)**\n",
    "\n",
    "The CSV file with the stored information is in the google drive until we find a better storage options for a large file"
   ]
  },
  {
   "cell_type": "code",
   "execution_count": 1,
   "id": "519b19e6-307d-4979-a8a1-56a779988e64",
   "metadata": {},
   "outputs": [],
   "source": [
    "import pandas as pd \n",
    "import re"
   ]
  },
  {
   "cell_type": "code",
   "execution_count": 2,
   "id": "3f2b5a27-138b-4d49-8b7e-ff5579b49207",
   "metadata": {},
   "outputs": [],
   "source": [
    "project_license = pd.read_csv(\"../gh_projects.csv\")"
   ]
  },
  {
   "cell_type": "code",
   "execution_count": 3,
   "id": "fc5d7d4d-3f70-4d1f-8a60-c4f5797cae17",
   "metadata": {},
   "outputs": [],
   "source": [
    "project_license.replace(to_replace=[r\"\\\\t|\\\\n|\\\\r\", \"\\t|\\n|\\r\"], value=[\"\",\"\"], regex=True, inplace=True)"
   ]
  },
  {
   "cell_type": "code",
   "execution_count": 4,
   "id": "8e90e41d-97d8-4638-8a3a-133516710e8c",
   "metadata": {},
   "outputs": [
    {
     "data": {
      "text/html": [
       "<div>\n",
       "<style scoped>\n",
       "    .dataframe tbody tr th:only-of-type {\n",
       "        vertical-align: middle;\n",
       "    }\n",
       "\n",
       "    .dataframe tbody tr th {\n",
       "        vertical-align: top;\n",
       "    }\n",
       "\n",
       "    .dataframe thead th {\n",
       "        text-align: right;\n",
       "    }\n",
       "</style>\n",
       "<table border=\"1\" class=\"dataframe\">\n",
       "  <thead>\n",
       "    <tr style=\"text-align: right;\">\n",
       "      <th></th>\n",
       "      <th>github_link</th>\n",
       "      <th>license</th>\n",
       "    </tr>\n",
       "  </thead>\n",
       "  <tbody>\n",
       "    <tr>\n",
       "      <th>0</th>\n",
       "      <td>github.com/0-14N/NDroid</td>\n",
       "      <td>1) QEMU as a whole is released under the GNU G...</td>\n",
       "    </tr>\n",
       "    <tr>\n",
       "      <th>1</th>\n",
       "      <td>github.com/0-8-4/miui-auto-tasks</td>\n",
       "      <td>MIT License</td>\n",
       "    </tr>\n",
       "    <tr>\n",
       "      <th>2</th>\n",
       "      <td>github.com/0-Auth/0Auth</td>\n",
       "      <td>MIT License</td>\n",
       "    </tr>\n",
       "    <tr>\n",
       "      <th>3</th>\n",
       "      <td>github.com/0-Tikaro/minimum-viable-startpage</td>\n",
       "      <td>MIT License</td>\n",
       "    </tr>\n",
       "    <tr>\n",
       "      <th>4</th>\n",
       "      <td>github.com/0-duke/wdpassport-utils</td>\n",
       "      <td>GNU GENERAL PUBLIC LICENSE</td>\n",
       "    </tr>\n",
       "  </tbody>\n",
       "</table>\n",
       "</div>"
      ],
      "text/plain": [
       "                                    github_link  \\\n",
       "0                       github.com/0-14N/NDroid   \n",
       "1              github.com/0-8-4/miui-auto-tasks   \n",
       "2                       github.com/0-Auth/0Auth   \n",
       "3  github.com/0-Tikaro/minimum-viable-startpage   \n",
       "4            github.com/0-duke/wdpassport-utils   \n",
       "\n",
       "                                             license  \n",
       "0  1) QEMU as a whole is released under the GNU G...  \n",
       "1                                        MIT License  \n",
       "2                                        MIT License  \n",
       "3                                        MIT License  \n",
       "4                         GNU GENERAL PUBLIC LICENSE  "
      ]
     },
     "execution_count": 4,
     "metadata": {},
     "output_type": "execute_result"
    }
   ],
   "source": [
    "project_license.head()"
   ]
  },
  {
   "cell_type": "code",
   "execution_count": 5,
   "id": "69644bea-557b-4407-947e-efa172e5c9a0",
   "metadata": {},
   "outputs": [],
   "source": [
    "project_license['l_clean'] = project_license.license.str.replace(r'(^.*MIT.*$)', 'MIT', regex = True ,flags=re.IGNORECASE)\n",
    "project_license['l_clean'] = project_license.l_clean.str.replace(r'(^.*GNU.*$)', 'GNU', regex = True ,flags=re.IGNORECASE)\n",
    "project_license['l_clean'] = project_license.l_clean.str.replace(r'(^.*Apache.*$)', 'Apache', regex = True ,flags=re.IGNORECASE)\n",
    "project_license['l_clean'] = project_license.l_clean.str.replace(r'(^.*BSD.*$)', 'BSD', regex = True ,flags=re.IGNORECASE)\n",
    "project_license['l_clean'] = project_license.l_clean.str.replace(r'(^.*MOZILLA.*$)', 'MOZILLA', regex = True ,flags=re.IGNORECASE)\n",
    "project_license['l_clean'] = project_license.l_clean.str.replace(r'(^.*ISC.*$)', 'ISC', regex = True ,flags=re.IGNORECASE)\n",
    "project_license['l_clean'] = project_license.l_clean.str.replace(r'(^.*Artistic.*$)', 'Artistic', regex = True ,flags=re.IGNORECASE)\n",
    "project_license['l_clean'] = project_license.l_clean.str.replace(r'(^.*SIL Open Font License.*$)', 'SIL Open Font License', regex = True ,flags=re.IGNORECASE)\n",
    "project_license['l_clean'] = project_license.l_clean.str.replace(r'(^.*Microsoft Public License.*$)', 'Microsoft Public License', regex = True ,flags=re.IGNORECASE)\n",
    "project_license['l_clean'] = project_license.l_clean.str.replace(r'(^.*Academic Free License.*$)', 'Academic Free License', regex = True ,flags=re.IGNORECASE)\n",
    "project_license['l_clean'] = project_license.l_clean.str.replace(r'(^.*CERN Open Hardware Licence.*$)', 'CERN Open Hardware Licence', regex = True ,flags=re.IGNORECASE)\n",
    "project_license['l_clean'] = project_license.l_clean.str.replace(r'(^.*Mulan Permissive Software License.*$)', 'Mulan Permissive Software License', regex = True ,flags=re.IGNORECASE)\n",
    "project_license['l_clean'] = project_license.l_clean.str.replace(r'(^.*Educational Community License.*$)', 'Educational Community License', regex = True ,flags=re.IGNORECASE)\n",
    "project_license['l_clean'] = project_license.l_clean.str.replace(r'(^.*CeCILL LICENSE.*$)', 'CeCILL LICENSE', regex = True ,flags=re.IGNORECASE)\n",
    "project_license['l_clean'] = project_license.l_clean.str.replace(r'(^.*Boost Software License.*$)', 'Boost Software License', regex = True ,flags=re.IGNORECASE)\n",
    "project_license['l_clean'] = project_license.l_clean.str.replace(r'(^.*Aladdin Free Public License.*$)', 'Aladdin Free Public License', regex = True ,flags=re.IGNORECASE)\n",
    "project_license['l_clean'] = project_license.l_clean.str.replace(r'(^.*The PHP License.*$)', 'The PHP License', regex = True ,flags=re.IGNORECASE)\n",
    "project_license['l_clean'] = project_license.l_clean.str.replace(r'(^.*Eclipse Public License.*$)', 'Eclipse Public License', regex = True ,flags=re.IGNORECASE)\n",
    "project_license['l_clean'] = project_license.l_clean.str.replace(r'(^.*zlib/libpng license.*$)', 'zlib/libpng license', regex = True ,flags=re.IGNORECASE)\n",
    "project_license['l_clean'] = project_license.l_clean.str.replace(r'(^.*Open Software License.*$)', 'Open Software License', regex = True ,flags=re.IGNORECASE)\n",
    "project_license['l_clean'] = project_license.l_clean.str.replace(r'(^.*Common Development and Distribution License.*$)', 'Common Development and Distribution License', regex = True ,flags=re.IGNORECASE)\n",
    "project_license['l_clean'] = project_license.l_clean.str.replace(r'(^.*Eiffel Forum License.*$)', 'Eiffel Forum License', regex = True ,flags=re.IGNORECASE)\n",
    "project_license['l_clean'] = project_license.l_clean.str.replace(r'(^.*Common Public Attribution License.*$)', 'Common Public Attribution License', regex = True ,flags=re.IGNORECASE)\n",
    "project_license['l_clean'] = project_license.l_clean.str.replace(r'(^.*COMMON PUBLIC LICENSE.*$)', 'COMMON PUBLIC LICENSE', regex = True ,flags=re.IGNORECASE)\n",
    "project_license['l_clean'] = project_license.l_clean.str.replace(r'(^.*Simple Public License.*$)', 'Simple Public License', regex = True ,flags=re.IGNORECASE)\n",
    "project_license['l_clean'] = project_license.l_clean.str.replace(r'(^.*Universal Permissive License.*$)', 'Universal Permissive License', regex = True ,flags=re.IGNORECASE)\n",
    "project_license['l_clean'] = project_license.l_clean.str.replace(r'(^.*LaTeX Project Public License.*$)', 'LaTeX Project Public License', regex = True ,flags=re.IGNORECASE)\n",
    "project_license['l_clean'] = project_license.l_clean.str.replace(r'(^.*Microsoft Reciprocal License.*$)', 'Microsoft Reciprocal License', regex = True ,flags=re.IGNORECASE)\n",
    "project_license['l_clean'] = project_license.l_clean.str.replace(r'(^.*Jabber Open Source License.*$)', 'Jabber Open Source License', regex = True ,flags=re.IGNORECASE)\n",
    "project_license['l_clean'] = project_license.l_clean.str.replace(r'(^.*PostgreSQL License.*$)', 'PostgreSQL License', regex = True ,flags=re.IGNORECASE)\n",
    "project_license['l_clean'] = project_license.l_clean.str.replace(r'(^.*NASA Open Source Agreement.*$)', 'NASA Open Source Agreement', regex = True ,flags=re.IGNORECASE)\n",
    "project_license['l_clean'] = project_license.l_clean.str.replace(r'(^.*University of Illinois/NCSA Open Source License.*$)', 'University of Illinois/NCSA Open Source License', regex = True ,flags=re.IGNORECASE)\n",
    "project_license['l_clean'] = project_license.l_clean.str.replace(r'(^.*OpenLDAP Public License.*$)', 'OpenLDAP Public License', regex = True ,flags=re.IGNORECASE)\n",
    "\n"
   ]
  },
  {
   "cell_type": "code",
   "execution_count": 6,
   "id": "07f91513-14ee-4a6f-baa3-56b406c27f20",
   "metadata": {},
   "outputs": [],
   "source": [
    "project_license['l_clean'] = project_license.l_clean.str.replace(r'(^.*Reciprocal Public License.*$)', 'Reciprocal Public License', regex = True ,flags=re.IGNORECASE)\n",
    "project_license['l_clean'] = project_license.l_clean.str.replace(r'(^.*Q Public License.*$)', 'Q Public License', regex = True ,flags=re.IGNORECASE)\n",
    "project_license['l_clean'] = project_license.l_clean.str.replace(r'(^.*Python License.*$)', 'Python License', regex = True ,flags=re.IGNORECASE)"
   ]
  },
  {
   "cell_type": "code",
   "execution_count": 7,
   "id": "540157e8-e3a8-45b8-8f85-b9ac6e431aff",
   "metadata": {},
   "outputs": [],
   "source": [
    "project_license['l_clean'] = project_license.l_clean.str.replace(r'(^.*Lucent Public License.*$)', 'Lucent Public License', regex = True ,flags=re.IGNORECASE)\n",
    "project_license['l_clean'] = project_license.l_clean.str.replace(r'(^.*IBM PUBLIC LICENSE.*$)', 'IBM PUBLIC LICENSE', regex = True ,flags=re.IGNORECASE)\n",
    "project_license['l_clean'] = project_license.l_clean.str.replace(r'(^.*European Union Public License.*$)', 'European Union Public License', regex = True ,flags=re.IGNORECASE)"
   ]
  },
  {
   "cell_type": "code",
   "execution_count": 8,
   "id": "d49449a9-b962-435c-b524-fe58bf5e7785",
   "metadata": {},
   "outputs": [],
   "source": [
    "project_license['l_clean'] = project_license.l_clean.str.replace(r'(^.*Adaptive Public License.*$)', 'Adaptive Public License', regex = True ,flags=re.IGNORECASE)\n",
    "project_license['l_clean'] = project_license.l_clean.str.replace(r'(^.*Unlicense.*$)', 'UNLICENSE license', regex = True ,flags=re.IGNORECASE)\n",
    "project_license['l_clean'] = project_license.l_clean.str.replace(r'(^.*Apple Public Source License.*$)', 'Apple Public Source License', regex = True ,flags=re.IGNORECASE)\n",
    "project_license['l_clean'] = project_license.l_clean.str.replace(r'(^.*Fair License.*$)', 'Fair License', regex = True ,flags=re.IGNORECASE)\n",
    "project_license['l_clean'] = project_license.l_clean.str.replace(r'(^.*W3C.*$)', 'W3Cs Software Intellectual Property License', regex = True ,flags=re.IGNORECASE)"
   ]
  },
  {
   "cell_type": "code",
   "execution_count": 9,
   "id": "91131710-c27a-48fb-9b31-27f851a24f40",
   "metadata": {},
   "outputs": [
    {
     "data": {
      "text/plain": [
       "MIT                                                                                             452275\n",
       "Apache                                                                                          140336\n",
       "GNU                                                                                             122636\n",
       "BSD                                                                                              19599\n",
       "ISC                                                                                               2001\n",
       "Eclipse Public License                                                                            1069\n",
       "Artistic                                                                                           616\n",
       "Boost Software License                                                                             445\n",
       "CERN Open Hardware Licence                                                                         175\n",
       "Open Software License                                                                              173\n",
       "The PHP License                                                                                    160\n",
       "LaTeX Project Public License                                                                       156\n",
       "Mulan Permissive Software License                                                                  155\n",
       "Microsoft Public License                                                                           146\n",
       "MOZILLA                                                                                            142\n",
       "SIL Open Font License                                                                              108\n",
       "Academic Free License                                                                               82\n",
       "Universal Permissive License                                                                        70\n",
       "zlib/libpng license                                                                                 47\n",
       "University of Illinois/NCSA Open Source License                                                     45\n",
       "CeCILL LICENSE                                                                                      42\n",
       "Common Development and Distribution License                                                         40\n",
       "Educational Community License                                                                       39\n",
       "NASA Open Source Agreement                                                                          23\n",
       "PostgreSQL License                                                                                  23\n",
       "Common Public Attribution License                                                                   21\n",
       "COMMON PUBLIC LICENSE                                                                               21\n",
       "UNLICENSE license                                                                                   18\n",
       "OpenLDAP Public License                                                                             18\n",
       "Free Public License 1.0.0                                                                           13\n",
       "Reciprocal Public License                                                                           12\n",
       "Microsoft Reciprocal License                                                                        11\n",
       "Apple Public Source License                                                                          9\n",
       "Python License                                                                                       9\n",
       "Aladdin Free Public License                                                                          9\n",
       "Eiffel Forum License                                                                                 7\n",
       "Simple Public License                                                                                6\n",
       "Lucent Public License                                                                                6\n",
       "Q Public License                                                                                     5\n",
       "# Cryptographic Autonomy License version 1.0                                                         4\n",
       "Fair License                                                                                         3\n",
       "WizNote  (http://www.wiznote.com)                                                                    3\n",
       "IBM PUBLIC LICENSE                                                                                   3\n",
       "Adaptive Public License                                                                              2\n",
       "                    NETHACK GENERAL PUBLIC LICENSE                                                   1\n",
       "Tencent is pleased to support the open source community by making LoliProfiler available.            1\n",
       "                                                                                                     1\n",
       "Intel Open Source License                                                                            1\n",
       "  PHP License                                                                                        1\n",
       "Jabber Open Source License                                                                           1\n",
       "Zope Public License (ZPL) Version 2.0                                                                1\n",
       "W3Cs Software Intellectual Property License                                                          1\n",
       "This program and the accompanying materials are made available under the                             1\n",
       "SPREADIT NONFREE PUBLIC LICENSE                                                                      1\n",
       "European Union Public License                                                                        1\n",
       "Tencent is pleased to support the open source community by making TENCENT SOTER available.           1\n",
       "Free Public License                                                                                  1\n",
       "Name: l_clean, dtype: int64"
      ]
     },
     "execution_count": 9,
     "metadata": {},
     "output_type": "execute_result"
    }
   ],
   "source": [
    "project_license['l_clean'].value_counts()"
   ]
  },
  {
   "cell_type": "code",
   "execution_count": null,
   "id": "1fbb13ea-377c-4a16-9142-f1476621de8d",
   "metadata": {},
   "outputs": [],
   "source": []
  }
 ],
 "metadata": {
  "kernelspec": {
   "display_name": "Python 3",
   "language": "python",
   "name": "python3"
  },
  "language_info": {
   "codemirror_mode": {
    "name": "ipython",
    "version": 3
   },
   "file_extension": ".py",
   "mimetype": "text/x-python",
   "name": "python",
   "nbconvert_exporter": "python",
   "pygments_lexer": "ipython3",
   "version": "3.8.6"
  }
 },
 "nbformat": 4,
 "nbformat_minor": 5
}
