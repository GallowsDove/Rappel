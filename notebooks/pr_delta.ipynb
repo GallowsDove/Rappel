{
 "cells": [
  {
   "cell_type": "markdown",
   "id": "fb61b86c-0d77-4e6c-9703-8cc6c9b0a5b8",
   "metadata": {},
   "source": [
    "# Github PR Analysis\n",
    "\n",
    "**Merge-timeline vs. (Lines of Code | Files Changed)**"
   ]
  },
  {
   "cell_type": "markdown",
   "id": "d8b4a8c5-d984-40ba-8f8f-dbad5fa5e09f",
   "metadata": {},
   "source": [
    "This notebook will aim to query the Augur DB to access the neccessary information to be able to get the following issue metrics dirived from the GitHub Community Metrics working document https://docs.google.com/document/d/1Yocr6fk0J8EsVZnJwoIl3kRQaI94tI-XHe7VSMFT0yM/edit?usp=sharing"
   ]
  },
  {
   "cell_type": "markdown",
   "id": "3dfa6615-20e6-4d52-8de5-7649b3e7679a",
   "metadata": {},
   "source": [
    "Any necessary computations from the data to get the metric value will be done as the queries are determined"
   ]
  },
  {
   "cell_type": "code",
   "execution_count": 1,
   "id": "a4ace754-fc56-45ad-9a11-d2422d9a125f",
   "metadata": {},
   "outputs": [],
   "source": [
    "import psycopg2\n",
    "import numpy as np\n",
    "import pandas as pd \n",
    "import sqlalchemy as salc\n",
    "import json\n",
    "import os\n",
    "import matplotlib.pyplot as plt\n",
    "from datetime import datetime\n",
    "plt.rcParams['figure.figsize'] = (15, 5)\n",
    "import warnings\n",
    "warnings.filterwarnings('ignore')\n",
    "\n",
    "with open(\"../config_temp.json\") as config_file:\n",
    "    config = json.load(config_file)"
   ]
  },
  {
   "cell_type": "code",
   "execution_count": 2,
   "id": "6ac11b5c-c8e3-4ea2-89cc-4ab52cdcb1e2",
   "metadata": {},
   "outputs": [],
   "source": [
    "database_connection_string = 'postgresql+psycopg2://{}:{}@{}:{}/{}'.format(config['user'], config['password'], config['host'], config['port'], config['database'])\n",
    "\n",
    "dbschema='augur_data'\n",
    "engine = salc.create_engine(\n",
    "    database_connection_string,\n",
    "    connect_args={'options': '-csearch_path={}'.format(dbschema)})"
   ]
  },
  {
   "cell_type": "code",
   "execution_count": 3,
   "id": "6980a00c-594a-413d-9394-4ea70d5e2db8",
   "metadata": {},
   "outputs": [
    {
     "name": "stdout",
     "output_type": "stream",
     "text": [
      "[25440]\n"
     ]
    }
   ],
   "source": [
    "#add your repo name(s) here of the repo(s) you want to query if known (and in the database)\n",
    "repo_name_set = ['augur']\n",
    "repo_set = []\n",
    "\n",
    "for repo_name in repo_name_set:\n",
    "    repo_query = salc.sql.text(f\"\"\"\n",
    "                 SET SCHEMA 'augur_data';\n",
    "                 SELECT \n",
    "                    b.repo_id\n",
    "                FROM\n",
    "                    repo_groups a,\n",
    "                    repo b\n",
    "                WHERE\n",
    "                    a.repo_group_id = b.repo_group_id AND\n",
    "                    b.repo_name = \\'{repo_name}\\'\n",
    "        \"\"\")\n",
    "\n",
    "    t = engine.execute(repo_query)\n",
    "    repo_id =t.mappings().all()[0].get('repo_id')\n",
    "    repo_set.append(repo_id)\n",
    "print(repo_set)"
   ]
  },
  {
   "cell_type": "markdown",
   "id": "e53c35f0-44f3-44c6-99cb-92eda96308c8",
   "metadata": {},
   "source": [
    "# Files and Lines of Code changed per PR"
   ]
  },
  {
   "cell_type": "markdown",
   "id": "61f33b94-9c70-498e-89fe-2820082f7895",
   "metadata": {},
   "source": [
    "How does a project handle contributions? In the open source model, changes to a code base are suggested in the form of Pull Requests which are composed of one or more commits made by one or more authors. They become a part of one or more branches of the project when they are 'merged,' and until this time they remain 'open.' In some cases, the suggested changes can be discarded for any number of reasons and in this situation the pull request is considered 'closed.' \n",
    "\n",
    "We would like to analyze the PR time-to-merge and PR time-to-close behavior of a project and try to make some generalizations about this behavior. Successful projects may enforce some constraints that, if followed, dramatically increase the probability of a PR being 'merged' rather than 'closed.' \n",
    "\n",
    "(A PR being 'closed' does not necessarily mean that the suggested changes were discarded. They could have been broken up into separate PR's and incorporated later. However, this distinction is important to analyze because those PR's that were 'closed' could represent those PR's that don't fit the standards of the project and are important to understand.)\n",
    "\n",
    "We will begin by visualizing this information in the hope of extracting some useful visual heuristics about these categories of PR. From there, we will go into Survival Analysis, hoping to observe trends in the project including probablistic merge behavior (e.g. there is an 80% chance that a PR of 'x' size will be merged in 'y' time)."
   ]
  },
  {
   "cell_type": "markdown",
   "id": "c0cf336b-7c99-423e-9c0a-ae2a3516f8f1",
   "metadata": {},
   "source": [
    "**Below:**\n",
    "\n",
    "Get all PR's (including those files that were in the PR) associated with a specified repository."
   ]
  },
  {
   "cell_type": "code",
   "execution_count": 4,
   "id": "16f714a0-a65a-4844-b54a-7044122df2d1",
   "metadata": {},
   "outputs": [
    {
     "data": {
      "text/html": [
       "<div>\n",
       "<style scoped>\n",
       "    .dataframe tbody tr th:only-of-type {\n",
       "        vertical-align: middle;\n",
       "    }\n",
       "\n",
       "    .dataframe tbody tr th {\n",
       "        vertical-align: top;\n",
       "    }\n",
       "\n",
       "    .dataframe thead th {\n",
       "        text-align: right;\n",
       "    }\n",
       "</style>\n",
       "<table border=\"1\" class=\"dataframe\">\n",
       "  <thead>\n",
       "    <tr style=\"text-align: right;\">\n",
       "      <th></th>\n",
       "      <th>pr_id</th>\n",
       "      <th>file_id</th>\n",
       "      <th>additions</th>\n",
       "      <th>deletions</th>\n",
       "      <th>total_changes</th>\n",
       "      <th>created</th>\n",
       "      <th>merged</th>\n",
       "      <th>closed</th>\n",
       "    </tr>\n",
       "  </thead>\n",
       "  <tbody>\n",
       "    <tr>\n",
       "      <th>0</th>\n",
       "      <td>210007</td>\n",
       "      <td>46811</td>\n",
       "      <td>86</td>\n",
       "      <td>3</td>\n",
       "      <td>89</td>\n",
       "      <td>2017-01-23 18:50:08</td>\n",
       "      <td>2017-01-23 20:49:42</td>\n",
       "      <td>2017-01-23 20:49:42</td>\n",
       "    </tr>\n",
       "    <tr>\n",
       "      <th>1</th>\n",
       "      <td>210008</td>\n",
       "      <td>46606</td>\n",
       "      <td>2</td>\n",
       "      <td>0</td>\n",
       "      <td>2</td>\n",
       "      <td>2017-01-31 17:08:16</td>\n",
       "      <td>2017-01-31 20:09:52</td>\n",
       "      <td>2017-01-31 20:09:52</td>\n",
       "    </tr>\n",
       "    <tr>\n",
       "      <th>2</th>\n",
       "      <td>210009</td>\n",
       "      <td>53814</td>\n",
       "      <td>2</td>\n",
       "      <td>0</td>\n",
       "      <td>2</td>\n",
       "      <td>2017-02-01 20:33:36</td>\n",
       "      <td>2017-02-02 16:52:19</td>\n",
       "      <td>2017-02-02 16:52:19</td>\n",
       "    </tr>\n",
       "    <tr>\n",
       "      <th>3</th>\n",
       "      <td>210009</td>\n",
       "      <td>53813</td>\n",
       "      <td>2</td>\n",
       "      <td>0</td>\n",
       "      <td>2</td>\n",
       "      <td>2017-02-01 20:33:36</td>\n",
       "      <td>2017-02-02 16:52:19</td>\n",
       "      <td>2017-02-02 16:52:19</td>\n",
       "    </tr>\n",
       "    <tr>\n",
       "      <th>4</th>\n",
       "      <td>210009</td>\n",
       "      <td>106809</td>\n",
       "      <td>5</td>\n",
       "      <td>1</td>\n",
       "      <td>6</td>\n",
       "      <td>2017-02-01 20:33:36</td>\n",
       "      <td>2017-02-02 16:52:19</td>\n",
       "      <td>2017-02-02 16:52:19</td>\n",
       "    </tr>\n",
       "  </tbody>\n",
       "</table>\n",
       "</div>"
      ],
      "text/plain": [
       "    pr_id  file_id  additions  deletions  total_changes             created  \\\n",
       "0  210007    46811         86          3             89 2017-01-23 18:50:08   \n",
       "1  210008    46606          2          0              2 2017-01-31 17:08:16   \n",
       "2  210009    53814          2          0              2 2017-02-01 20:33:36   \n",
       "3  210009    53813          2          0              2 2017-02-01 20:33:36   \n",
       "4  210009   106809          5          1              6 2017-02-01 20:33:36   \n",
       "\n",
       "               merged              closed  \n",
       "0 2017-01-23 20:49:42 2017-01-23 20:49:42  \n",
       "1 2017-01-31 20:09:52 2017-01-31 20:09:52  \n",
       "2 2017-02-02 16:52:19 2017-02-02 16:52:19  \n",
       "3 2017-02-02 16:52:19 2017-02-02 16:52:19  \n",
       "4 2017-02-02 16:52:19 2017-02-02 16:52:19  "
      ]
     },
     "execution_count": 4,
     "metadata": {},
     "output_type": "execute_result"
    }
   ],
   "source": [
    "df_pr_files = pd.DataFrame()\n",
    "\n",
    "for repo_id in repo_set: \n",
    "\n",
    "    pr_query = salc.sql.text(f\"\"\"\n",
    "                SELECT\n",
    "\t\t\t\t\tpr.pull_request_id AS pr_id,\n",
    "                    prf.pr_file_id as file_id,\n",
    "                    prf.pr_file_additions as additions,\n",
    "                    prf.pr_file_deletions as deletions,\n",
    "                    prf.pr_file_additions + prf.pr_file_deletions as total_changes,\n",
    "                    pr.pr_created_at as created,\n",
    "                    pr.pr_merged_at as merged,\n",
    "                    pr.pr_closed_at as closed\n",
    "                    \n",
    "                FROM\n",
    "                \trepo r,\n",
    "                    pull_requests pr,\n",
    "                    pull_request_files prf\n",
    "\n",
    "                WHERE\n",
    "                \tr.repo_id = pr.repo_id AND\n",
    "                    r.repo_id = \\'{repo_id}\\' AND\n",
    "                    prf.pull_request_id = pr.pull_request_id\n",
    "                ORDER BY\n",
    "                    pr_id\n",
    "        \"\"\")\n",
    "    df_current_repo = pd.read_sql(pr_query, con=engine)\n",
    "    df_pr_files = pd.concat([df_pr_files, df_current_repo])\n",
    "\n",
    "df_pr_files = df_pr_files.reset_index()\n",
    "df_pr_files.drop(\"index\", axis=1, inplace=True)\n",
    "        \n",
    "df_pr_files.head(5)"
   ]
  },
  {
   "cell_type": "markdown",
   "id": "328f101a-28cf-4fdd-8dd7-b3d565e96432",
   "metadata": {},
   "source": [
    "## Which PRs were closed without being merged?"
   ]
  },
  {
   "cell_type": "code",
   "execution_count": 5,
   "id": "5af409b3-0d09-4dde-b9ef-3f0386b3e171",
   "metadata": {},
   "outputs": [
    {
     "data": {
      "text/html": [
       "<div>\n",
       "<style scoped>\n",
       "    .dataframe tbody tr th:only-of-type {\n",
       "        vertical-align: middle;\n",
       "    }\n",
       "\n",
       "    .dataframe tbody tr th {\n",
       "        vertical-align: top;\n",
       "    }\n",
       "\n",
       "    .dataframe thead th {\n",
       "        text-align: right;\n",
       "    }\n",
       "</style>\n",
       "<table border=\"1\" class=\"dataframe\">\n",
       "  <thead>\n",
       "    <tr style=\"text-align: right;\">\n",
       "      <th></th>\n",
       "      <th>pr_id</th>\n",
       "      <th>file_id</th>\n",
       "      <th>additions</th>\n",
       "      <th>deletions</th>\n",
       "      <th>total_changes</th>\n",
       "      <th>created</th>\n",
       "      <th>merged</th>\n",
       "      <th>closed</th>\n",
       "      <th>close_window</th>\n",
       "    </tr>\n",
       "  </thead>\n",
       "  <tbody>\n",
       "    <tr>\n",
       "      <th>5</th>\n",
       "      <td>210010</td>\n",
       "      <td>39274</td>\n",
       "      <td>3</td>\n",
       "      <td>1</td>\n",
       "      <td>4</td>\n",
       "      <td>2017-02-01 20:39:53</td>\n",
       "      <td>NaT</td>\n",
       "      <td>2017-02-02 16:50:19</td>\n",
       "      <td>1.0</td>\n",
       "    </tr>\n",
       "    <tr>\n",
       "      <th>6</th>\n",
       "      <td>210010</td>\n",
       "      <td>39275</td>\n",
       "      <td>3</td>\n",
       "      <td>1</td>\n",
       "      <td>4</td>\n",
       "      <td>2017-02-01 20:39:53</td>\n",
       "      <td>NaT</td>\n",
       "      <td>2017-02-02 16:50:19</td>\n",
       "      <td>1.0</td>\n",
       "    </tr>\n",
       "    <tr>\n",
       "      <th>7</th>\n",
       "      <td>210010</td>\n",
       "      <td>39273</td>\n",
       "      <td>3</td>\n",
       "      <td>1</td>\n",
       "      <td>4</td>\n",
       "      <td>2017-02-01 20:39:53</td>\n",
       "      <td>NaT</td>\n",
       "      <td>2017-02-02 16:50:19</td>\n",
       "      <td>1.0</td>\n",
       "    </tr>\n",
       "    <tr>\n",
       "      <th>8</th>\n",
       "      <td>210010</td>\n",
       "      <td>39272</td>\n",
       "      <td>3</td>\n",
       "      <td>1</td>\n",
       "      <td>4</td>\n",
       "      <td>2017-02-01 20:39:53</td>\n",
       "      <td>NaT</td>\n",
       "      <td>2017-02-02 16:50:19</td>\n",
       "      <td>1.0</td>\n",
       "    </tr>\n",
       "    <tr>\n",
       "      <th>9</th>\n",
       "      <td>210010</td>\n",
       "      <td>39276</td>\n",
       "      <td>3</td>\n",
       "      <td>1</td>\n",
       "      <td>4</td>\n",
       "      <td>2017-02-01 20:39:53</td>\n",
       "      <td>NaT</td>\n",
       "      <td>2017-02-02 16:50:19</td>\n",
       "      <td>1.0</td>\n",
       "    </tr>\n",
       "  </tbody>\n",
       "</table>\n",
       "</div>"
      ],
      "text/plain": [
       "    pr_id  file_id  additions  deletions  total_changes             created  \\\n",
       "5  210010    39274          3          1              4 2017-02-01 20:39:53   \n",
       "6  210010    39275          3          1              4 2017-02-01 20:39:53   \n",
       "7  210010    39273          3          1              4 2017-02-01 20:39:53   \n",
       "8  210010    39272          3          1              4 2017-02-01 20:39:53   \n",
       "9  210010    39276          3          1              4 2017-02-01 20:39:53   \n",
       "\n",
       "  merged              closed  close_window  \n",
       "5    NaT 2017-02-02 16:50:19           1.0  \n",
       "6    NaT 2017-02-02 16:50:19           1.0  \n",
       "7    NaT 2017-02-02 16:50:19           1.0  \n",
       "8    NaT 2017-02-02 16:50:19           1.0  \n",
       "9    NaT 2017-02-02 16:50:19           1.0  "
      ]
     },
     "execution_count": 5,
     "metadata": {},
     "output_type": "execute_result"
    }
   ],
   "source": [
    "\"\"\"\n",
    "These are the PRs that were closed without being merged.\n",
    "\"\"\"\n",
    "df_pr_closed = df_pr_files[df_pr_files['merged'].isna()]\n",
    "df_pr_closed['close_window'] = df_pr_closed['closed'] - df_pr_closed['created']\n",
    "df_pr_closed['close_window'] = df_pr_closed['close_window'].apply(lambda d: d.days + 1)\n",
    "df_pr_closed.head()"
   ]
  },
  {
   "cell_type": "code",
   "execution_count": 18,
   "id": "e80530de-7b7b-423b-aa84-afd6ac0ede97",
   "metadata": {},
   "outputs": [
    {
     "data": {
      "image/png": "[encoded data removed]",
      "text/plain": [
       "<Figure size 800x800 with 1 Axes>"
      ]
     },
     "metadata": {
      "needs_background": "light"
     },
     "output_type": "display_data"
    }
   ],
   "source": [
    "# map the total number of lines changed per PR\n",
    "df_pr_closed_fc = df_pr_closed.assign(sumChanges = df_pr_closed['pr_id'].map(df_pr_closed.groupby('pr_id')['total_changes'].sum()))\n",
    "\n",
    "# drop any extra columns so we just see the PR, the days required to merge, and the number of changes made across all files.\n",
    "df_pr_closed_fc = df_pr_closed_fc.drop(['file_id', 'additions', 'deletions', 'total_changes', 'created', 'merged', 'closed'], axis=1).drop_duplicates('pr_id')\n",
    "\n",
    "# plot\n",
    "plt.figure(figsize=(10, 10), dpi=80)\n",
    "plt.scatter(df_pr_closed_fc['close_window'], np.log(df_pr_closed_fc['sumChanges']))\n",
    "plt.grid(True)\n",
    "plt.title(\"(log_10) Lines Of Code Changed vs. Days Until Close\")\n",
    "plt.xlabel(\"Days\")\n",
    "plt.ylabel(\"(log_10) Lines Changed\")\n",
    "plt.show()"
   ]
  },
  {
   "cell_type": "markdown",
   "id": "a8bf2d4e-39ce-4ae7-879f-a67bcd771865",
   "metadata": {},
   "source": [
    "## Which PRs are still open and how long have they been open?"
   ]
  },
  {
   "cell_type": "code",
   "execution_count": 8,
   "id": "5bf52e13-e88c-47f0-be78-e0941a7d24ca",
   "metadata": {},
   "outputs": [
    {
     "data": {
      "text/html": [
       "<div>\n",
       "<style scoped>\n",
       "    .dataframe tbody tr th:only-of-type {\n",
       "        vertical-align: middle;\n",
       "    }\n",
       "\n",
       "    .dataframe tbody tr th {\n",
       "        vertical-align: top;\n",
       "    }\n",
       "\n",
       "    .dataframe thead th {\n",
       "        text-align: right;\n",
       "    }\n",
       "</style>\n",
       "<table border=\"1\" class=\"dataframe\">\n",
       "  <thead>\n",
       "    <tr style=\"text-align: right;\">\n",
       "      <th></th>\n",
       "      <th>pr_id</th>\n",
       "      <th>file_id</th>\n",
       "      <th>additions</th>\n",
       "      <th>deletions</th>\n",
       "      <th>total_changes</th>\n",
       "      <th>created</th>\n",
       "      <th>merged</th>\n",
       "      <th>closed</th>\n",
       "      <th>open_window</th>\n",
       "    </tr>\n",
       "  </thead>\n",
       "  <tbody>\n",
       "    <tr>\n",
       "      <th>42296</th>\n",
       "      <td>213921</td>\n",
       "      <td>68594</td>\n",
       "      <td>3</td>\n",
       "      <td>3</td>\n",
       "      <td>6</td>\n",
       "      <td>2020-09-11 00:00:48</td>\n",
       "      <td>NaT</td>\n",
       "      <td>NaT</td>\n",
       "      <td>393</td>\n",
       "    </tr>\n",
       "    <tr>\n",
       "      <th>43402</th>\n",
       "      <td>214020</td>\n",
       "      <td>70400</td>\n",
       "      <td>1</td>\n",
       "      <td>0</td>\n",
       "      <td>1</td>\n",
       "      <td>2020-10-12 19:20:28</td>\n",
       "      <td>NaT</td>\n",
       "      <td>NaT</td>\n",
       "      <td>362</td>\n",
       "    </tr>\n",
       "    <tr>\n",
       "      <th>43403</th>\n",
       "      <td>214020</td>\n",
       "      <td>70401</td>\n",
       "      <td>1</td>\n",
       "      <td>0</td>\n",
       "      <td>1</td>\n",
       "      <td>2020-10-12 19:20:28</td>\n",
       "      <td>NaT</td>\n",
       "      <td>NaT</td>\n",
       "      <td>362</td>\n",
       "    </tr>\n",
       "    <tr>\n",
       "      <th>43404</th>\n",
       "      <td>214020</td>\n",
       "      <td>100242</td>\n",
       "      <td>11</td>\n",
       "      <td>1</td>\n",
       "      <td>12</td>\n",
       "      <td>2020-10-12 19:20:28</td>\n",
       "      <td>NaT</td>\n",
       "      <td>NaT</td>\n",
       "      <td>362</td>\n",
       "    </tr>\n",
       "    <tr>\n",
       "      <th>43406</th>\n",
       "      <td>214022</td>\n",
       "      <td>161176</td>\n",
       "      <td>66</td>\n",
       "      <td>58</td>\n",
       "      <td>124</td>\n",
       "      <td>2020-10-14 09:15:54</td>\n",
       "      <td>NaT</td>\n",
       "      <td>NaT</td>\n",
       "      <td>360</td>\n",
       "    </tr>\n",
       "  </tbody>\n",
       "</table>\n",
       "</div>"
      ],
      "text/plain": [
       "        pr_id  file_id  additions  deletions  total_changes  \\\n",
       "42296  213921    68594          3          3              6   \n",
       "43402  214020    70400          1          0              1   \n",
       "43403  214020    70401          1          0              1   \n",
       "43404  214020   100242         11          1             12   \n",
       "43406  214022   161176         66         58            124   \n",
       "\n",
       "                  created merged closed  open_window  \n",
       "42296 2020-09-11 00:00:48    NaT    NaT          393  \n",
       "43402 2020-10-12 19:20:28    NaT    NaT          362  \n",
       "43403 2020-10-12 19:20:28    NaT    NaT          362  \n",
       "43404 2020-10-12 19:20:28    NaT    NaT          362  \n",
       "43406 2020-10-14 09:15:54    NaT    NaT          360  "
      ]
     },
     "execution_count": 8,
     "metadata": {},
     "output_type": "execute_result"
    }
   ],
   "source": [
    "\"\"\"\n",
    "These are the PRs that have yet to be merged or closed (are still open).\n",
    "\"\"\"\n",
    "df_pr_open = df_pr_files[df_pr_files['merged'].isna() & df_pr_files['closed'].isna()]\n",
    "df_pr_open['open_window'] = datetime.now() - df_pr_open['created']\n",
    "df_pr_open['open_window'] = df_pr_open['open_window'].apply(lambda d: d.days + 1)\n",
    "df_pr_open.head()"
   ]
  },
  {
   "cell_type": "code",
   "execution_count": 19,
   "id": "2411c282-9a68-4168-866d-c317f33c3174",
   "metadata": {},
   "outputs": [
    {
     "data": {
      "image/png": "[encoded data removed]",
      "text/plain": [
       "<Figure size 800x800 with 1 Axes>"
      ]
     },
     "metadata": {
      "needs_background": "light"
     },
     "output_type": "display_data"
    }
   ],
   "source": [
    "# map the total number of lines changed per PR\n",
    "df_pr_open_fc = df_pr_open.assign(sumChanges = df_pr_open['pr_id'].map(df_pr_open.groupby('pr_id')['total_changes'].sum()))\n",
    "\n",
    "# drop any extra columns so we just see the PR, the days required to merge, and the number of changes made across all files.\n",
    "df_pr_open_fc = df_pr_open_fc.drop(['file_id', 'additions', 'deletions', 'total_changes', 'created', 'merged', 'closed'], axis=1).drop_duplicates('pr_id')\n",
    "\n",
    "# plot\n",
    "plt.figure(figsize=(10, 10), dpi=80)\n",
    "plt.scatter(df_pr_open_fc['open_window'], np.log(df_pr_open_fc['sumChanges']))\n",
    "plt.grid(True)\n",
    "plt.title(\"(log_10) Lines Of Code Changed vs. Days Open\")\n",
    "plt.xlabel(\"Days\")\n",
    "plt.ylabel(\"(log_10) Lines Changed\")\n",
    "plt.show()"
   ]
  },
  {
   "cell_type": "markdown",
   "id": "98540233-0507-4b60-a5e9-7d5b9f4556d3",
   "metadata": {},
   "source": [
    "## Which PRs have been merged and closed?"
   ]
  },
  {
   "cell_type": "code",
   "execution_count": 13,
   "id": "6749465e-5721-41c2-86a1-d0d94780078c",
   "metadata": {},
   "outputs": [
    {
     "data": {
      "text/html": [
       "<div>\n",
       "<style scoped>\n",
       "    .dataframe tbody tr th:only-of-type {\n",
       "        vertical-align: middle;\n",
       "    }\n",
       "\n",
       "    .dataframe tbody tr th {\n",
       "        vertical-align: top;\n",
       "    }\n",
       "\n",
       "    .dataframe thead th {\n",
       "        text-align: right;\n",
       "    }\n",
       "</style>\n",
       "<table border=\"1\" class=\"dataframe\">\n",
       "  <thead>\n",
       "    <tr style=\"text-align: right;\">\n",
       "      <th></th>\n",
       "      <th>pr_id</th>\n",
       "      <th>file_id</th>\n",
       "      <th>additions</th>\n",
       "      <th>deletions</th>\n",
       "      <th>total_changes</th>\n",
       "      <th>created</th>\n",
       "      <th>merged</th>\n",
       "      <th>closed</th>\n",
       "      <th>merge_window</th>\n",
       "    </tr>\n",
       "  </thead>\n",
       "  <tbody>\n",
       "    <tr>\n",
       "      <th>0</th>\n",
       "      <td>210007</td>\n",
       "      <td>46811</td>\n",
       "      <td>86</td>\n",
       "      <td>3</td>\n",
       "      <td>89</td>\n",
       "      <td>2017-01-23 18:50:08</td>\n",
       "      <td>2017-01-23 20:49:42</td>\n",
       "      <td>2017-01-23 20:49:42</td>\n",
       "      <td>1</td>\n",
       "    </tr>\n",
       "    <tr>\n",
       "      <th>1</th>\n",
       "      <td>210008</td>\n",
       "      <td>46606</td>\n",
       "      <td>2</td>\n",
       "      <td>0</td>\n",
       "      <td>2</td>\n",
       "      <td>2017-01-31 17:08:16</td>\n",
       "      <td>2017-01-31 20:09:52</td>\n",
       "      <td>2017-01-31 20:09:52</td>\n",
       "      <td>1</td>\n",
       "    </tr>\n",
       "    <tr>\n",
       "      <th>2</th>\n",
       "      <td>210009</td>\n",
       "      <td>53814</td>\n",
       "      <td>2</td>\n",
       "      <td>0</td>\n",
       "      <td>2</td>\n",
       "      <td>2017-02-01 20:33:36</td>\n",
       "      <td>2017-02-02 16:52:19</td>\n",
       "      <td>2017-02-02 16:52:19</td>\n",
       "      <td>1</td>\n",
       "    </tr>\n",
       "    <tr>\n",
       "      <th>3</th>\n",
       "      <td>210009</td>\n",
       "      <td>53813</td>\n",
       "      <td>2</td>\n",
       "      <td>0</td>\n",
       "      <td>2</td>\n",
       "      <td>2017-02-01 20:33:36</td>\n",
       "      <td>2017-02-02 16:52:19</td>\n",
       "      <td>2017-02-02 16:52:19</td>\n",
       "      <td>1</td>\n",
       "    </tr>\n",
       "    <tr>\n",
       "      <th>4</th>\n",
       "      <td>210009</td>\n",
       "      <td>106809</td>\n",
       "      <td>5</td>\n",
       "      <td>1</td>\n",
       "      <td>6</td>\n",
       "      <td>2017-02-01 20:33:36</td>\n",
       "      <td>2017-02-02 16:52:19</td>\n",
       "      <td>2017-02-02 16:52:19</td>\n",
       "      <td>1</td>\n",
       "    </tr>\n",
       "  </tbody>\n",
       "</table>\n",
       "</div>"
      ],
      "text/plain": [
       "    pr_id  file_id  additions  deletions  total_changes             created  \\\n",
       "0  210007    46811         86          3             89 2017-01-23 18:50:08   \n",
       "1  210008    46606          2          0              2 2017-01-31 17:08:16   \n",
       "2  210009    53814          2          0              2 2017-02-01 20:33:36   \n",
       "3  210009    53813          2          0              2 2017-02-01 20:33:36   \n",
       "4  210009   106809          5          1              6 2017-02-01 20:33:36   \n",
       "\n",
       "               merged              closed  merge_window  \n",
       "0 2017-01-23 20:49:42 2017-01-23 20:49:42             1  \n",
       "1 2017-01-31 20:09:52 2017-01-31 20:09:52             1  \n",
       "2 2017-02-02 16:52:19 2017-02-02 16:52:19             1  \n",
       "3 2017-02-02 16:52:19 2017-02-02 16:52:19             1  \n",
       "4 2017-02-02 16:52:19 2017-02-02 16:52:19             1  "
      ]
     },
     "execution_count": 13,
     "metadata": {},
     "output_type": "execute_result"
    }
   ],
   "source": [
    "\"\"\"\n",
    "These are the PRs that have been merged and closed.\n",
    "\"\"\"\n",
    "df_pr_merged = df_pr_files[df_pr_files['merged'].notna()]\n",
    "df_pr_merged['merge_window'] = df_pr_merged['merged'] - df_pr_merged['created']\n",
    "df_pr_merged['merge_window'] = df_pr_merged['merge_window'].apply(lambda d: d.days + 1)\n",
    "df_pr_merged.head(5)"
   ]
  },
  {
   "cell_type": "code",
   "execution_count": 15,
   "id": "63c1d361-f5f7-47dc-9eee-5c37cf54868b",
   "metadata": {},
   "outputs": [
    {
     "data": {
      "image/png": "[encoded data removed]",
      "text/plain": [
       "<Figure size 800x800 with 1 Axes>"
      ]
     },
     "metadata": {
      "needs_background": "light"
     },
     "output_type": "display_data"
    }
   ],
   "source": [
    "# map the total number of lines changed per PR\n",
    "df_pr_merged_fc = df_pr_merged.assign(sumChanges = df_pr_merged['pr_id'].map(df_pr_merged.groupby('pr_id')['total_changes'].sum()))\n",
    "\n",
    "# drop any extra columns so we just see the PR, the days required to merge, and the number of changes made across all files.\n",
    "df_pr_merged_fc = df_pr_merged_fc.drop(['file_id', 'additions', 'deletions', 'total_changes', 'created', 'merged', 'closed'], axis=1).drop_duplicates('pr_id')\n",
    "\n",
    "# plot\n",
    "plt.figure(figsize=(10, 10), dpi=80)\n",
    "plt.scatter(df_pr_merged_fc['merge_window'], np.log(df_pr_merged_fc['sumChanges']))\n",
    "plt.grid(True)\n",
    "plt.title(\"(log_10) Lines Of Code Changed vs. Days to Merge\")\n",
    "plt.xlabel(\"Days\")\n",
    "plt.ylabel(\"(log_10) Lines Changed\")\n",
    "plt.show()"
   ]
  },
  {
   "cell_type": "markdown",
   "id": "13f2cf76-5a65-4fff-9951-76af2d25d24a",
   "metadata": {},
   "source": [
    "## Does # of lines changed correlate visually with time-to-merge (and/or) merge-status?"
   ]
  },
  {
   "cell_type": "code",
   "execution_count": 16,
   "id": "4f5c627f-8dbf-4802-832f-9c6c3658c9a7",
   "metadata": {},
   "outputs": [
    {
     "data": {
      "text/plain": [
       "<matplotlib.legend.Legend at 0x7f073a562eb0>"
      ]
     },
     "execution_count": 16,
     "metadata": {},
     "output_type": "execute_result"
    },
    {
     "data": {
      "image/png": "[encoded data removed]",
      "text/plain": [
       "<Figure size 800x800 with 1 Axes>"
      ]
     },
     "metadata": {
      "needs_background": "light"
     },
     "output_type": "display_data"
    }
   ],
   "source": [
    "fig = plt.figure( figsize=(10,10), dpi=80 )\n",
    "ax = fig.add_axes([0,0,1,1])\n",
    "ax.set_xlabel(\"Days\")\n",
    "ax.set_ylabel(\"Lines Changed\")\n",
    "ax.set_title(\"Lines of Code vs. Days (to Merge|to Close|while Open)\")\n",
    "ax.grid(True)\n",
    "ax.scatter( df_pr_closed_fc['close_window'], np.log(df_pr_closed_fc['sumChanges']), color='red', marker='o', label=\"Closed\")\n",
    "ax.scatter( df_pr_open_fc['open_window'], np.log(df_pr_open_fc['sumChanges']), color='orange', marker='v', label=\"Open\")\n",
    "ax.scatter( df_pr_merged_fc['merge_window'], df_pr_merged_fc['sumChanges'], color='blue', marker='*', label=\"Merged\")\n",
    "ax.legend([\"Closed\", \"Open\", \"Merged\"])"
   ]
  },
  {
   "cell_type": "markdown",
   "id": "c3f61941-751c-47d4-b0ee-93f25ceefadb",
   "metadata": {},
   "source": [
    "There are some pretty dramatic visual outliers among those PRs that have yet to be merged leading to a pretty sparse plot. We ought to replot the data with some limits on the ranges.\n"
   ]
  },
  {
   "cell_type": "code",
   "execution_count": 17,
   "id": "39cf9bed-5ed0-4dc3-a7e9-ca4d02dccbe0",
   "metadata": {},
   "outputs": [
    {
     "data": {
      "text/plain": [
       "<matplotlib.legend.Legend at 0x7f073a1a76d0>"
      ]
     },
     "execution_count": 17,
     "metadata": {},
     "output_type": "execute_result"
    },
    {
     "data": {
      "image/png": "[encoded data removed]",
      "text/plain": [
       "<Figure size 800x800 with 1 Axes>"
      ]
     },
     "metadata": {
      "needs_background": "light"
     },
     "output_type": "display_data"
    }
   ],
   "source": [
    "fig2 = plt.figure( figsize=(10,10), dpi=80 )\n",
    "ax2 = fig2.add_axes([0,0,1,1])\n",
    "ax2.set_xlabel(\"Days\")\n",
    "ax2.set_ylabel(\"Lines Changed\")\n",
    "ax2.set_title(\"Lines of Code vs. Days (to Merge|to Close|while Open)\")\n",
    "ax2.set_xlim(0,150)\n",
    "ax2.set_ylim(-100000,0.7e6)\n",
    "ax2.grid(True)\n",
    "ax2.scatter( df_pr_closed_fc['close_window'], df_pr_closed_fc['sumChanges'], color='red', marker='o', label=\"Closed\")\n",
    "ax2.scatter( df_pr_open_fc['open_window'], df_pr_open_fc['sumChanges'], color='orange', marker='v', label=\"Open\")\n",
    "ax2.scatter( df_pr_merged_fc['merge_window'], df_pr_merged_fc['sumChanges'], color='blue', marker='*', label=\"Merged\")\n",
    "ax2.legend([\"Closed\", \"Open\", \"Merged\"])"
   ]
  },
  {
   "cell_type": "markdown",
   "id": "0e856eff-07ac-423a-aa2e-d68340e2437f",
   "metadata": {},
   "source": [
    "Visually, an overlay of the populations doesn't seem to have very strong correlation. It may be more advantageous to look at the populations statistically. "
   ]
  },
  {
   "cell_type": "markdown",
   "id": "fe223a92-be53-4e9e-89b6-987fa9cf5182",
   "metadata": {},
   "source": [
    "The next step is to try to do some survival analysis using the LifeLines module. We can include all of the populations but if we include the open issues, we need to "
   ]
  }
 ],
 "metadata": {
  "kernelspec": {
   "display_name": "Python 3",
   "language": "python",
   "name": "python3"
  },
  "language_info": {
   "codemirror_mode": {
    "name": "ipython",
    "version": 3
   },
   "file_extension": ".py",
   "mimetype": "text/x-python",
   "name": "python",
   "nbconvert_exporter": "python",
   "pygments_lexer": "ipython3",
   "version": "3.8.6"
  }
 },
 "nbformat": 4,
 "nbformat_minor": 5
}
