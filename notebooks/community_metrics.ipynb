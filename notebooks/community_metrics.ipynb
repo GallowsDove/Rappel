{
 "cells": [
  {
   "cell_type": "markdown",
   "id": "f74c9e45-9b57-40f9-a9f3-67c237214d2e",
   "metadata": {},
   "source": [
    "# Github Metrics- Growth of a Repo's Community"
   ]
  },
  {
   "cell_type": "markdown",
   "id": "d5a60e7c-6eca-4743-a81c-5587d41ab1ed",
   "metadata": {},
   "source": [
    "note: https://www.zainrizvi.io/blog/jupyter-notebooks-best-practices-use-virtual-environments/ for setting up virtual environments in this RHODs JL instance."
   ]
  },
  {
   "cell_type": "markdown",
   "id": "bb5fd073-06f8-4e09-9218-2039ef874104",
   "metadata": {},
   "source": [
    "This notebook will aim to query the Augur DB to derive measurements specified in the GitHub Community Metrics working document: https://docs.google.com/document/d/1Yocr6fk0J8EsVZnJwoIl3kRQaI94tI-XHe7VSMFT0yM/edit?usp=sharing"
   ]
  },
  {
   "cell_type": "markdown",
   "id": "d8e1abd0-a14e-4052-b821-1ed8188748a7",
   "metadata": {},
   "source": [
    "**Imports and Database (Augur) connection**"
   ]
  },
  {
   "cell_type": "code",
   "execution_count": 3,
   "id": "f311a095-6b36-448c-b431-d2c755bcf497",
   "metadata": {
    "tags": [
     "hide-input"
    ]
   },
   "outputs": [],
   "source": [
    "import psycopg2\n",
    "import pandas as pd \n",
    "import sqlalchemy as salc\n",
    "import matplotlib\n",
    "import numpy as np\n",
    "import seaborn as sns\n",
    "import matplotlib.pyplot as plt\n",
    "import json\n",
    "import warnings\n",
    "import datetime\n",
    "from pandas.tseries.offsets import BusinessDay\n",
    "from matplotlib.ticker import MaxNLocator\n",
    "from dateutil.relativedelta import relativedelta\n",
    "\n",
    "warnings.filterwarnings('ignore')\n",
    "\n",
    "with open(\"../config_temp.json\") as config_file:\n",
    "    config = json.load(config_file)\n",
    "\n",
    "database_connection_string = 'postgresql+psycopg2://{}:{}@{}:{}/{}'.format(config['user'], \n",
    "                                                                           config['password'], \n",
    "                                                                           config['host'], \n",
    "                                                                           config['port'], \n",
    "                                                                           config['database'])\n",
    "\n",
    "dbschema='augur_data'\n",
    "engine = salc.create_engine(\n",
    "    database_connection_string,\n",
    "    connect_args={'options': '-csearch_path={}'.format(dbschema)})"
   ]
  },
  {
   "cell_type": "markdown",
   "id": "ba32d471-5b2a-4149-a17c-e1c06a28cbfe",
   "metadata": {},
   "source": [
    "## Control Cell - Set Variables and Filters  "
   ]
  },
  {
   "cell_type": "markdown",
   "id": "031efca6-94a6-4b63-bdee-7f6e846b2d03",
   "metadata": {},
   "source": [
    "The cell below is for generating repo_ids from the repo names. For this to work, the repo must already be in the database. If you want to manually assign a repo_id skip the cell below and read the comments on the next cell.\n",
    "\n",
    "In other words, this cell translates a repo's name (augur or grimoirelab) into their respective repo-id."
   ]
  },
  {
   "cell_type": "code",
   "execution_count": 4,
   "id": "339644e0-a567-47e5-af85-3b4f6d6e651c",
   "metadata": {
    "tags": [
     "hide-input"
    ]
   },
   "outputs": [
    {
     "name": "stdout",
     "output_type": "stream",
     "text": [
      "[25440]\n"
     ]
    }
   ],
   "source": [
    "#add your repo name(s) here of the repo(s) you want to query if known (and in the database)\n",
    "#repo_name_set = ['augur', 'grimoirelab']\n",
    "repo_name_set = ['augur']\n",
    "repo_set = []\n",
    "\n",
    "for repo_name in repo_name_set:\n",
    "    repo_query = salc.sql.text(f\"\"\"\n",
    "                 SET SCHEMA 'augur_data';\n",
    "                 SELECT \n",
    "                    b.repo_id\n",
    "                FROM\n",
    "                    repo_groups a,\n",
    "                    repo b\n",
    "                WHERE\n",
    "                    a.repo_group_id = b.repo_group_id AND\n",
    "                    b.repo_name = \\'{repo_name}\\'\n",
    "        \"\"\")\n",
    "\n",
    "    t = engine.execute(repo_query)\n",
    "    repo_id =t.mappings().all()[0].get('repo_id')\n",
    "    repo_set.append(repo_id)\n",
    "print(repo_set)"
   ]
  },
  {
   "cell_type": "markdown",
   "id": "8de2fba9-0a4a-4333-a3d1-f84612c863bf",
   "metadata": {},
   "source": [
    "## Growth of first-time issue submitters over time"
   ]
  },
  {
   "cell_type": "markdown",
   "id": "9bd8a003-ec8f-44b9-a535-fc9d826a07f2",
   "metadata": {},
   "source": [
    "This measurement is derived from removing all non-unique and non-first entries of the same reporter_id. We are then able to track the timestamps in order of first-time issue submissions.\n",
    "The resulting plot will show the aggregate number of issue-submitters vs. time."
   ]
  },
  {
   "cell_type": "markdown",
   "id": "4547934b-0e16-45ea-8799-628de534cd84",
   "metadata": {},
   "source": [
    "**Query for repo's issues, ascending time**"
   ]
  },
  {
   "cell_type": "code",
   "execution_count": 5,
   "id": "1dba4212-45d1-404f-9872-b890203a1691",
   "metadata": {
    "tags": []
   },
   "outputs": [
    {
     "data": {
      "text/html": [
       "<div>\n",
       "<style scoped>\n",
       "    .dataframe tbody tr th:only-of-type {\n",
       "        vertical-align: middle;\n",
       "    }\n",
       "\n",
       "    .dataframe tbody tr th {\n",
       "        vertical-align: top;\n",
       "    }\n",
       "\n",
       "    .dataframe thead th {\n",
       "        text-align: right;\n",
       "    }\n",
       "</style>\n",
       "<table border=\"1\" class=\"dataframe\">\n",
       "  <thead>\n",
       "    <tr style=\"text-align: right;\">\n",
       "      <th></th>\n",
       "      <th>reporter_id</th>\n",
       "      <th>created_at</th>\n",
       "    </tr>\n",
       "  </thead>\n",
       "  <tbody>\n",
       "    <tr>\n",
       "      <th>0</th>\n",
       "      <td>280508</td>\n",
       "      <td>2017-01-20 14:56:01</td>\n",
       "    </tr>\n",
       "    <tr>\n",
       "      <th>1</th>\n",
       "      <td>280508</td>\n",
       "      <td>2017-01-20 15:04:01</td>\n",
       "    </tr>\n",
       "    <tr>\n",
       "      <th>2</th>\n",
       "      <td>277697</td>\n",
       "      <td>2017-01-20 20:15:51</td>\n",
       "    </tr>\n",
       "    <tr>\n",
       "      <th>3</th>\n",
       "      <td>280523</td>\n",
       "      <td>2017-01-23 18:00:23</td>\n",
       "    </tr>\n",
       "    <tr>\n",
       "      <th>4</th>\n",
       "      <td>280508</td>\n",
       "      <td>2017-01-23 18:50:08</td>\n",
       "    </tr>\n",
       "  </tbody>\n",
       "</table>\n",
       "</div>"
      ],
      "text/plain": [
       "   reporter_id          created_at\n",
       "0       280508 2017-01-20 14:56:01\n",
       "1       280508 2017-01-20 15:04:01\n",
       "2       277697 2017-01-20 20:15:51\n",
       "3       280523 2017-01-23 18:00:23\n",
       "4       280508 2017-01-23 18:50:08"
      ]
     },
     "execution_count": 5,
     "metadata": {},
     "output_type": "execute_result"
    }
   ],
   "source": [
    "df_issues = pd.DataFrame()\n",
    "\n",
    "for repo_id in repo_set: \n",
    "\n",
    "    pr_query = salc.sql.text(f\"\"\"\n",
    "                SELECT\n",
    "                    i.reporter_id,\n",
    "                    i.created_at\n",
    "                FROM\n",
    "                \tissues i\n",
    "                WHERE\n",
    "                    i.repo_id = \\'{repo_id}\\'\n",
    "                 ORDER BY\n",
    "                    i.created_at\n",
    "        \"\"\")\n",
    "    df_current_repo = pd.read_sql(pr_query, con=engine)\n",
    "    df_issues = pd.concat([df_issues, df_current_repo])\n",
    "\n",
    "df_issues = df_issues.reset_index()\n",
    "df_issues.drop(\"index\", axis=1, inplace=True)\n",
    "df_issues.head()"
   ]
  },
  {
   "cell_type": "markdown",
   "id": "5c5dd76d-3438-40a7-af12-e75f5d38ca3c",
   "metadata": {},
   "source": [
    "**Drop all duplicate reporter_id's except for their first occurrence; re-sort in ascending order.**"
   ]
  },
  {
   "cell_type": "code",
   "execution_count": 6,
   "id": "10b18e36-308e-49d9-8965-970dfc6db5da",
   "metadata": {},
   "outputs": [],
   "source": [
    "# get only the first incidence of an issue-creator posting.\n",
    "df_issues = df_issues.drop_duplicates(subset=\"reporter_id\", keep=\"first\")\n",
    "\n",
    "# sort the values by the time/date of post.\n",
    "df_issues = df_issues.sort_values(\"created_at\")\n",
    "\n",
    "# reset the index and drop the index - gets rid of sorting index issue.\n",
    "df_issues = df_issues.reset_index()\n",
    "df_issues.drop(\"index\", axis=1, inplace=True)\n",
    "\n",
    "# reset the index so index is a column, increasing (1,df.size+1)\n",
    "df_issues = df_issues.reset_index()"
   ]
  },
  {
   "cell_type": "markdown",
   "id": "47df7fc4-3281-4467-bcad-d881c531bdad",
   "metadata": {},
   "source": [
    "### First-time issue creators over time"
   ]
  },
  {
   "cell_type": "code",
   "execution_count": 7,
   "id": "0bd64c1f-a61b-41d8-a310-a6ef01f22c16",
   "metadata": {
    "tags": [
     "hide-input"
    ]
   },
   "outputs": [
    {
     "data": {
      "image/png": "[encoded data removed]",
      "text/plain": [
       "<Figure size 432x288 with 1 Axes>"
      ]
     },
     "metadata": {
      "needs_background": "light"
     },
     "output_type": "display_data"
    }
   ],
   "source": [
    "# plot the index of creation vs. the creation date.\n",
    "df_issues.plot(x=\"created_at\", y=\"index\", title=\"# of New Augur Issue Creators vs. Time\")\n",
    "plt.show()"
   ]
  },
  {
   "cell_type": "markdown",
   "id": "cdf6b2ff-62d2-451b-a137-1e425d8524d2",
   "metadata": {},
   "source": [
    "## Growth of first-time PR submitters over time"
   ]
  },
  {
   "cell_type": "markdown",
   "id": "f85411f0-6be3-49e4-82e7-69a1464af3f8",
   "metadata": {},
   "source": [
    "We use the same ideas from issue-submitters to find the rate of novel PR'ing for the repo."
   ]
  },
  {
   "cell_type": "markdown",
   "id": "50607154-449c-4f47-8b1b-5c4585f068ec",
   "metadata": {},
   "source": [
    "**Query for user who made PR and timestamp of PR.**"
   ]
  },
  {
   "cell_type": "code",
   "execution_count": 8,
   "id": "8c659b14-27b7-4f7a-8f14-7ba46f927884",
   "metadata": {
    "tags": []
   },
   "outputs": [
    {
     "data": {
      "text/html": [
       "<div>\n",
       "<style scoped>\n",
       "    .dataframe tbody tr th:only-of-type {\n",
       "        vertical-align: middle;\n",
       "    }\n",
       "\n",
       "    .dataframe tbody tr th {\n",
       "        vertical-align: top;\n",
       "    }\n",
       "\n",
       "    .dataframe thead th {\n",
       "        text-align: right;\n",
       "    }\n",
       "</style>\n",
       "<table border=\"1\" class=\"dataframe\">\n",
       "  <thead>\n",
       "    <tr style=\"text-align: right;\">\n",
       "      <th></th>\n",
       "      <th>pr_src_id</th>\n",
       "      <th>pr_created_at</th>\n",
       "    </tr>\n",
       "  </thead>\n",
       "  <tbody>\n",
       "    <tr>\n",
       "      <th>0</th>\n",
       "      <td>277141</td>\n",
       "      <td>2017-01-23 18:50:08</td>\n",
       "    </tr>\n",
       "    <tr>\n",
       "      <th>1</th>\n",
       "      <td>277141</td>\n",
       "      <td>2017-01-31 17:08:16</td>\n",
       "    </tr>\n",
       "    <tr>\n",
       "      <th>2</th>\n",
       "      <td>277713</td>\n",
       "      <td>2017-02-01 20:33:36</td>\n",
       "    </tr>\n",
       "    <tr>\n",
       "      <th>3</th>\n",
       "      <td>277821</td>\n",
       "      <td>2017-02-01 20:39:53</td>\n",
       "    </tr>\n",
       "    <tr>\n",
       "      <th>4</th>\n",
       "      <td>277714</td>\n",
       "      <td>2017-02-01 20:41:17</td>\n",
       "    </tr>\n",
       "  </tbody>\n",
       "</table>\n",
       "</div>"
      ],
      "text/plain": [
       "   pr_src_id       pr_created_at\n",
       "0     277141 2017-01-23 18:50:08\n",
       "1     277141 2017-01-31 17:08:16\n",
       "2     277713 2017-02-01 20:33:36\n",
       "3     277821 2017-02-01 20:39:53\n",
       "4     277714 2017-02-01 20:41:17"
      ]
     },
     "execution_count": 8,
     "metadata": {},
     "output_type": "execute_result"
    }
   ],
   "source": [
    "df_pr = pd.DataFrame()\n",
    "\n",
    "for repo_id in repo_set: \n",
    "\n",
    "    pr_query = salc.sql.text(f\"\"\"\n",
    "                SELECT\n",
    "                    p.pr_augur_contributor_id as pr_src_id,\n",
    "                    p.pr_created_at\n",
    "                FROM\n",
    "                \tpull_requests p\n",
    "                WHERE\n",
    "                    p.repo_id = \\'{repo_id}\\'\n",
    "                 ORDER BY\n",
    "                    p.pr_created_at\n",
    "        \"\"\")\n",
    "    df_current_repo = pd.read_sql(pr_query, con=engine)\n",
    "    df_pr = pd.concat([df_pr, df_current_repo])\n",
    "\n",
    "df_pr = df_pr.reset_index()\n",
    "df_pr.drop(\"index\", axis=1, inplace=True)\n",
    "df_pr.head()"
   ]
  },
  {
   "cell_type": "markdown",
   "id": "3e610e64-6685-4902-a594-8958c0ca4dcf",
   "metadata": {},
   "source": [
    "**Drop all duplicate pr_src_id's except for their first occurrence; re-sort in ascending order.**"
   ]
  },
  {
   "cell_type": "code",
   "execution_count": 9,
   "id": "98a1764b-e445-4f68-9bb4-c909516a2b0b",
   "metadata": {},
   "outputs": [],
   "source": [
    "# get only the first incidence of a user making a pr.\n",
    "df_pr = df_pr.drop_duplicates(subset=\"pr_src_id\", keep=\"first\")\n",
    "\n",
    "# sort the values by the time/date of pr.\n",
    "df_pr = df_pr.sort_values(\"pr_created_at\")\n",
    "\n",
    "# reset the index and drop the index - gets rid of sorting index problem.\n",
    "df_pr = df_pr.reset_index()\n",
    "df_pr.drop(\"index\", axis=1, inplace=True)\n",
    "\n",
    "# reset the index so index is a column, increasing (1,df.size+1)\n",
    "df_pr = df_pr.reset_index()"
   ]
  },
  {
   "cell_type": "markdown",
   "id": "86a39031-019d-42a9-bbe2-70ad5324117b",
   "metadata": {},
   "source": [
    "### Growth of aggregate first-time PR makers"
   ]
  },
  {
   "cell_type": "code",
   "execution_count": 11,
   "id": "2cfc99f5-fa5c-4fa4-a1c3-c028af677b8d",
   "metadata": {
    "tags": []
   },
   "outputs": [
    {
     "data": {
      "image/png": "[encoded data removed]",
      "text/plain": [
       "<Figure size 432x288 with 1 Axes>"
      ]
     },
     "metadata": {
      "needs_background": "light"
     },
     "output_type": "display_data"
    }
   ],
   "source": [
    "# plot the index of creation vs. the creation date of PR.\n",
    "df_pr.plot(x=\"pr_created_at\", y=\"index\", title=\"# Novel Augur PR Makers vs. Time\")\n",
    "plt.show()"
   ]
  },
  {
   "cell_type": "markdown",
   "id": "38139bba-5eab-4b14-aa33-3e9d483ad0fc",
   "metadata": {},
   "source": [
    "## Number of Augur contributors, differentiated as \"Committer\" and \"Author"
   ]
  },
  {
   "cell_type": "markdown",
   "id": "5ca475b5-f70f-495d-8e90-de04cbeaf8fc",
   "metadata": {},
   "source": [
    "\"GitHub defines a Contributor as: \"This user has previously committed to the \\<repo name> repository.\"\n",
    "\n",
    "Ref: https://stackoverflow.com/questions/28866799/difference-between-collaborator-and-contributor\n",
    "\n",
    "Each commit has a 'committer' and an 'author.' In most cases, they are the same person. This is the case when one someone commits their own code. \n",
    "\n",
    "It can also be the case, however, that someone might commit the code of another author, e.g. if cherry-picking some changes from another fork's branch, without having written some parts of the code themselves. In this case, the author would be credited separately from the committer. But both of these individuals are considered contributors and are credited in the commit.\n",
    "\n",
    "Therefore we can get the growth of contributorship by splitting commits into novel committers and novel authors."
   ]
  },
  {
   "cell_type": "markdown",
   "id": "2757d312-cef5-435f-b91e-7e28e0f63de9",
   "metadata": {},
   "source": [
    "**Query for first-time committers and first-time authors, each sorted in ascending order**"
   ]
  },
  {
   "cell_type": "code",
   "execution_count": 12,
   "id": "ca89e77e-0946-4963-b6a3-b73cb73311a5",
   "metadata": {
    "tags": []
   },
   "outputs": [],
   "source": [
    "df_pr_committers = pd.DataFrame()\n",
    "df_pr_authors = pd.DataFrame()\n",
    "\n",
    "for repo_id in repo_set: \n",
    "\n",
    "    pr_query = salc.sql.text(f\"\"\"\n",
    "                SELECT\n",
    "                    c.cmt_commit_hash,\n",
    "                    c.cmt_committer_name,\n",
    "                    c.cmt_committer_timestamp\n",
    "                FROM\n",
    "                \tcommits c\n",
    "                WHERE\n",
    "                    c.repo_id = \\'{repo_id}\\'\n",
    "                 ORDER BY\n",
    "                    c.cmt_committer_timestamp\n",
    "        \"\"\")\n",
    "    df_current_repo = pd.read_sql(pr_query, con=engine)\n",
    "    df_pr_committers = pd.concat([df_pr_committers, df_current_repo])\n",
    "    \n",
    "for repo_id in repo_set: \n",
    "\n",
    "    pr_query = salc.sql.text(f\"\"\"\n",
    "                SELECT\n",
    "                    c.cmt_commit_hash,\n",
    "                    c.cmt_author_name,\n",
    "                    c.cmt_author_timestamp\n",
    "                FROM\n",
    "                \tcommits c\n",
    "                WHERE\n",
    "                    c.repo_id = \\'{repo_id}\\'\n",
    "                 ORDER BY\n",
    "                    c.cmt_author_timestamp\n",
    "        \"\"\")\n",
    "    df_current_repo = pd.read_sql(pr_query, con=engine)\n",
    "    df_pr_authors = pd.concat([df_pr_authors, df_current_repo])\n",
    "\n",
    "df_pr_committers = df_pr_committers.reset_index()\n",
    "df_pr_committers.drop(\"index\", axis=1, inplace=True)\n",
    "\n",
    "df_pr_authors = df_pr_authors.reset_index()\n",
    "df_pr_authors.drop(\"index\", axis=1, inplace=True)"
   ]
  },
  {
   "cell_type": "markdown",
   "id": "648bebde-83e8-4fcf-ba63-49683fa30c44",
   "metadata": {},
   "source": [
    "**Drop all duplicate cmt_committer_name's except for their first occurrence; re-sort in ascending order**"
   ]
  },
  {
   "cell_type": "code",
   "execution_count": 13,
   "id": "38dfb0b4-6795-440e-af2c-e14daa9042c2",
   "metadata": {
    "tags": []
   },
   "outputs": [],
   "source": [
    "# Sort the committers by the commit timestamp and then keep only the first occurrence of a name.\n",
    "\n",
    "# Get first submitted commit for a name.\n",
    "df_pr_committers_unique = df_pr_committers.drop_duplicates(subset=\"cmt_committer_name\", keep=\"first\")\n",
    "\n",
    "# Sort by the time of their first commit.\n",
    "df_pr_committers_sorted_unique = df_pr_committers_unique.sort_values(\"cmt_committer_timestamp\")\n",
    "\n",
    "# Finagle the index as a column to count number of committers.\n",
    "df_pr_committers_sorted_unique = df_pr_committers_sorted_unique.reset_index()\n",
    "df_pr_committers_sorted_unique.drop(\"index\", axis=1, inplace=True)\n",
    "df_pr_committers_sorted_unique = df_pr_committers_sorted_unique.reset_index()\n"
   ]
  },
  {
   "cell_type": "markdown",
   "id": "72ba446b-19d0-489b-9028-b7b30ef83fd1",
   "metadata": {},
   "source": [
    "### First-time commit makers over time"
   ]
  },
  {
   "cell_type": "code",
   "execution_count": 14,
   "id": "3a390be0-3ee9-4eee-88d4-c9446a3ff5b0",
   "metadata": {
    "tags": []
   },
   "outputs": [
    {
     "data": {
      "image/png": "[encoded data removed]",
      "text/plain": [
       "<Figure size 432x288 with 1 Axes>"
      ]
     },
     "metadata": {
      "needs_background": "light"
     },
     "output_type": "display_data"
    }
   ],
   "source": [
    "# plot number of unique committers over time.\n",
    "ax_committers = df_pr_committers_sorted_unique.plot(x=\"cmt_committer_timestamp\", y=\"index\", title=\"# Novel Augur Commit Makers vs. Time\")\n",
    "plt.show()"
   ]
  },
  {
   "cell_type": "markdown",
   "id": "6e0641a4-a3a3-4733-b5fd-aba61eba8e86",
   "metadata": {},
   "source": [
    "**Drop all duplicate cmt_author_name's except for their first occurrence; re-sort in ascending order.**"
   ]
  },
  {
   "cell_type": "code",
   "execution_count": 15,
   "id": "b08e77bd-9459-4aa0-8dda-bbd37ecbf275",
   "metadata": {},
   "outputs": [],
   "source": [
    "# Sort the authors by the author timestamp and then keep only the first occurrence of a name.\n",
    "\n",
    "# Get first submitted authorship for a name.\n",
    "df_pr_authors_unique = df_pr_authors.drop_duplicates(subset=\"cmt_author_name\", keep=\"first\")\n",
    "\n",
    "# Sort by the time of their first authorship.\n",
    "df_pr_authors_sorted_unique = df_pr_authors_unique.sort_values(\"cmt_author_timestamp\")\n",
    "\n",
    "# Finagle the index as a column to count number of authors.\n",
    "df_pr_authors_sorted_unique = df_pr_authors_sorted_unique.reset_index()\n",
    "df_pr_authors_sorted_unique.drop(\"index\", axis=1, inplace=True)\n",
    "df_pr_authors_sorted_unique = df_pr_authors_sorted_unique.reset_index()"
   ]
  },
  {
   "cell_type": "markdown",
   "id": "15a8f264-bfe6-407e-9b0a-2dc74aa5a9db",
   "metadata": {},
   "source": [
    "### First-time commit authors over time"
   ]
  },
  {
   "cell_type": "code",
   "execution_count": 16,
   "id": "0b716f3a-3258-421c-b8b8-e63ec416a4c1",
   "metadata": {},
   "outputs": [
    {
     "data": {
      "image/png": "[encoded data removed]",
      "text/plain": [
       "<Figure size 432x288 with 1 Axes>"
      ]
     },
     "metadata": {
      "needs_background": "light"
     },
     "output_type": "display_data"
    }
   ],
   "source": [
    "# plot number of unique authors over time.\n",
    "df_pr_authors_sorted_unique.plot(x=\"cmt_author_timestamp\", y=\"index\", title=\"# Novel Augur Commit Authors vs. Time\")\n",
    "plt.show()"
   ]
  },
  {
   "cell_type": "markdown",
   "id": "414ef878-7b7d-4875-b8a9-5c0210566f98",
   "metadata": {},
   "source": [
    "### Comparison of growth between new authors and new committers"
   ]
  },
  {
   "cell_type": "markdown",
   "id": "05525ffb-9356-4233-9e09-530b620c8b2e",
   "metadata": {},
   "source": [
    "We see that the two growth-rates have similar shapes but non-identical growth rates. There are more novel authors than there are novel committers, indicating that in this project, some committers create commits on behalf of one or more authors."
   ]
  },
  {
   "cell_type": "code",
   "execution_count": 17,
   "id": "99c14f83-b816-4bb2-b26c-d3982a26c0dc",
   "metadata": {},
   "outputs": [
    {
     "data": {
      "image/png": "[encoded data removed]",
      "text/plain": [
       "<Figure size 432x288 with 1 Axes>"
      ]
     },
     "metadata": {
      "needs_background": "light"
     },
     "output_type": "display_data"
    }
   ],
   "source": [
    "plt.plot(df_pr_committers_sorted_unique[\"cmt_committer_timestamp\"], df_pr_committers_sorted_unique[\"index\"], label = \"committers\")\n",
    "plt.plot(df_pr_authors_sorted_unique[\"cmt_author_timestamp\"], df_pr_authors_sorted_unique[\"index\"], label = \"authors\")\n",
    "plt.title(\"Growth of Novel Authors vs. Novel Committers\")\n",
    "plt.legend()\n",
    "plt.show()"
   ]
  },
  {
   "cell_type": "markdown",
   "id": "d4e4226f-1a94-4102-b429-be5d71c68ed7",
   "metadata": {},
   "source": [
    "## Organizational diversity [WIP]"
   ]
  },
  {
   "cell_type": "markdown",
   "id": "d2ce8618-f10f-4fee-ab2a-7a444d98b523",
   "metadata": {},
   "source": [
    "There are some likely sources of this information including 'cntrb_canonical' and 'cntrb_company.' There also exists a table called 'contributor_affiliations' that we can cross-reference. Augur tracks the aliases of contributors and unifies them under a unique 'cntrb_id' which keys to all emails linked to the same account.\n",
    "\n",
    "This presents one layer of effective analysis- we can pin activity to a single user across emails. However, it would also be nice if we could identify an individual across different accounts and different emails. For example, it would be convenient if we could see which projects an individual is working on during their corporate work, versus their personal contributions.\n",
    "\n",
    "One suggested solution is to use fuzzy-matching between names / emails. It's likely that an individual will have overlapping emails between two accounts and potentialls overlapping names / themes for their personal / professional VC accounts.\n",
    "\n",
    "This is an interesting problem, and one that will likely not be solved quickly."
   ]
  },
  {
   "cell_type": "code",
   "execution_count": 18,
   "id": "217a2a8b-932a-415b-9f82-548b05c7e8e9",
   "metadata": {},
   "outputs": [
    {
     "data": {
      "text/html": [
       "<div>\n",
       "<style scoped>\n",
       "    .dataframe tbody tr th:only-of-type {\n",
       "        vertical-align: middle;\n",
       "    }\n",
       "\n",
       "    .dataframe tbody tr th {\n",
       "        vertical-align: top;\n",
       "    }\n",
       "\n",
       "    .dataframe thead th {\n",
       "        text-align: right;\n",
       "    }\n",
       "</style>\n",
       "<table border=\"1\" class=\"dataframe\">\n",
       "  <thead>\n",
       "    <tr style=\"text-align: right;\">\n",
       "      <th></th>\n",
       "      <th>login</th>\n",
       "      <th>company_or_institution</th>\n",
       "      <th>location</th>\n",
       "      <th>email</th>\n",
       "    </tr>\n",
       "  </thead>\n",
       "  <tbody>\n",
       "    <tr>\n",
       "      <th>0</th>\n",
       "      <td>not-provided</td>\n",
       "      <td>None</td>\n",
       "      <td>None</td>\n",
       "      <td>fosterd@vmware.com</td>\n",
       "    </tr>\n",
       "    <tr>\n",
       "      <th>1</th>\n",
       "      <td>not-provided</td>\n",
       "      <td>None</td>\n",
       "      <td>None</td>\n",
       "      <td>fosterd@vmware.com</td>\n",
       "    </tr>\n",
       "    <tr>\n",
       "      <th>2</th>\n",
       "      <td>frots</td>\n",
       "      <td>None</td>\n",
       "      <td>None</td>\n",
       "      <td>fosterd@vmware.com</td>\n",
       "    </tr>\n",
       "    <tr>\n",
       "      <th>3</th>\n",
       "      <td>stdweird</td>\n",
       "      <td>Ghent University</td>\n",
       "      <td>Ghent, Belgium</td>\n",
       "      <td>fosterd@vmware.com</td>\n",
       "    </tr>\n",
       "    <tr>\n",
       "      <th>4</th>\n",
       "      <td>acs</td>\n",
       "      <td>ThingsO2</td>\n",
       "      <td>Getafe, Madrid, Spain</td>\n",
       "      <td>alvarodelcastillo@gmail.com</td>\n",
       "    </tr>\n",
       "    <tr>\n",
       "      <th>...</th>\n",
       "      <td>...</td>\n",
       "      <td>...</td>\n",
       "      <td>...</td>\n",
       "      <td>...</td>\n",
       "    </tr>\n",
       "    <tr>\n",
       "      <th>3495</th>\n",
       "      <td>jumping</td>\n",
       "      <td>None</td>\n",
       "      <td>Shanghai, China</td>\n",
       "      <td>None</td>\n",
       "    </tr>\n",
       "    <tr>\n",
       "      <th>3496</th>\n",
       "      <td>foundatron</td>\n",
       "      <td>None</td>\n",
       "      <td>Seattle, WA</td>\n",
       "      <td>None</td>\n",
       "    </tr>\n",
       "    <tr>\n",
       "      <th>3497</th>\n",
       "      <td>krionbsd</td>\n",
       "      <td>None</td>\n",
       "      <td>Europe</td>\n",
       "      <td>krion@freebsd.org</td>\n",
       "    </tr>\n",
       "    <tr>\n",
       "      <th>3498</th>\n",
       "      <td>wilcovian</td>\n",
       "      <td>None</td>\n",
       "      <td>None</td>\n",
       "      <td>None</td>\n",
       "    </tr>\n",
       "    <tr>\n",
       "      <th>3499</th>\n",
       "      <td>thr27</td>\n",
       "      <td>None</td>\n",
       "      <td>None</td>\n",
       "      <td>None</td>\n",
       "    </tr>\n",
       "  </tbody>\n",
       "</table>\n",
       "<p>3500 rows × 4 columns</p>\n",
       "</div>"
      ],
      "text/plain": [
       "             login company_or_institution               location  \\\n",
       "0     not-provided                   None                   None   \n",
       "1     not-provided                   None                   None   \n",
       "2            frots                   None                   None   \n",
       "3         stdweird       Ghent University         Ghent, Belgium   \n",
       "4              acs               ThingsO2  Getafe, Madrid, Spain   \n",
       "...            ...                    ...                    ...   \n",
       "3495       jumping                   None        Shanghai, China   \n",
       "3496    foundatron                   None            Seattle, WA   \n",
       "3497      krionbsd                   None                 Europe   \n",
       "3498     wilcovian                   None                   None   \n",
       "3499         thr27                   None                   None   \n",
       "\n",
       "                            email  \n",
       "0              fosterd@vmware.com  \n",
       "1              fosterd@vmware.com  \n",
       "2              fosterd@vmware.com  \n",
       "3              fosterd@vmware.com  \n",
       "4     alvarodelcastillo@gmail.com  \n",
       "...                           ...  \n",
       "3495                         None  \n",
       "3496                         None  \n",
       "3497            krion@freebsd.org  \n",
       "3498                         None  \n",
       "3499                         None  \n",
       "\n",
       "[3500 rows x 4 columns]"
      ]
     },
     "execution_count": 18,
     "metadata": {},
     "output_type": "execute_result"
    }
   ],
   "source": [
    "df_o_divers = pd.DataFrame()\n",
    "\n",
    "for repo_id in repo_set: \n",
    "\n",
    "    pr_query = salc.sql.text(f\"\"\"\n",
    "                SELECT\n",
    "                    c.cntrb_login as login,\n",
    "                    c.cntrb_company as company_or_institution,\n",
    "                    c.cntrb_location as location,\n",
    "                    c.cntrb_canonical as email\n",
    "                FROM\n",
    "                \tcontributors c\n",
    "        \"\"\")\n",
    "    df_current_repo = pd.read_sql(pr_query, con=engine)\n",
    "    df_o_divers = pd.concat([df_o_divers, df_current_repo])\n",
    "\n",
    "df_o_divers = df_o_divers.reset_index()\n",
    "df_o_divers.drop(\"index\", axis=1, inplace=True)\n",
    "pd.set_option('display.max_columns', None)\n",
    "df_o_divers"
   ]
  },
  {
   "cell_type": "markdown",
   "id": "f4f3d09f-4abf-4803-8583-8d221861b68b",
   "metadata": {},
   "source": [
    "## Number of Users [WIP]"
   ]
  },
  {
   "cell_type": "markdown",
   "id": "654e48be-a903-4b3a-89b6-d80af1d1602f",
   "metadata": {},
   "source": [
    "We must decide how to define a 'user' in this context. \n",
    "\n",
    "The set of accounts that have (1) submitted an issue, (2) authored a change in a commit, (3) made a commit, (4) made a PR, (5) forked the repo, (6) merged a PR as an admit, etc. is almost certainly an imperfect subset of the users of the software itself (i.e. contributors don't necessarily use the software, users aren't necessaryily contributors). Additionally, it is likely that we can never arrive at a way of measuring the exact number of users a piece of open source software has. \n",
    "\n",
    "We might agree that we can get an imprecise lower-bound on the number of users by summing ( contributors + maintainers + owners + issue makers), which could be useful.\n",
    "\n",
    "More conversation on this topic is needed in the future."
   ]
  },
  {
   "cell_type": "code",
   "execution_count": null,
   "id": "f08d2b6d-4941-4ab6-82d3-e40410238a2c",
   "metadata": {},
   "outputs": [],
   "source": []
  }
 ],
 "metadata": {
  "kernelspec": {
   "display_name": "Python 3",
   "language": "python",
   "name": "python3"
  },
  "language_info": {
   "codemirror_mode": {
    "name": "ipython",
    "version": 3
   },
   "file_extension": ".py",
   "mimetype": "text/x-python",
   "name": "python",
   "nbconvert_exporter": "python",
   "pygments_lexer": "ipython3",
   "version": "3.8.6"
  },
  "requirements": "{\"packages\":{\"psycopg2\":\"*\"},\"requires\":{\"python_version\":\"3.8\"},\"sources\":[{\"name\":\"pypi\",\"url\":\"https://pypi.org/simple\",\"verify_ssl\":true}]}"
 },
 "nbformat": 4,
 "nbformat_minor": 5
}
