{
 "cells": [
  {
   "cell_type": "markdown",
   "id": "b804eb17-50a9-4885-b519-2850706c8b8e",
   "metadata": {},
   "source": [
    "# Github Metrics- Activity by Repo "
   ]
  },
  {
   "cell_type": "markdown",
   "id": "b5820aae-64d0-4513-a57d-4b70d4fd5500",
   "metadata": {},
   "source": [
    "This notebook will aim to query the Augur DB to access the neccessary information to be able to get the following metrics dirived from the GitHub Community Metrics working document https://docs.google.com/document/d/1Yocr6fk0J8EsVZnJwoIl3kRQaI94tI-XHe7VSMFT0yM/edit?usp=sharing"
   ]
  },
  {
   "cell_type": "markdown",
   "id": "ed2b9886-9b74-4379-a3ca-b2be043ddd6c",
   "metadata": {},
   "source": [
    "Any necessary computations from the data to get the metric value will be done as the queries are determined|"
   ]
  },
  {
   "cell_type": "code",
   "execution_count": 19,
   "id": "93696d8e-ca30-4c0c-95a6-54a63f5f03cf",
   "metadata": {},
   "outputs": [],
   "source": [
    "import psycopg2\n",
    "import pandas as pd \n",
    "import sqlalchemy as salc\n",
    "import json\n",
    "import os\n",
    "\n",
    "with open(\"../config_temp.json\") as config_file:\n",
    "    config = json.load(config_file)"
   ]
  },
  {
   "cell_type": "code",
   "execution_count": 20,
   "id": "08838d1b-6334-43ea-a3e7-e2c768d21c56",
   "metadata": {},
   "outputs": [],
   "source": [
    "database_connection_string = 'postgresql+psycopg2://{}:{}@{}:{}/{}'.format(config['user'], config['password'], config['host'], config['port'], config['database'])\n",
    "\n",
    "dbschema='augur_data'\n",
    "engine = salc.create_engine(\n",
    "    database_connection_string,\n",
    "    connect_args={'options': '-csearch_path={}'.format(dbschema)})"
   ]
  },
  {
   "cell_type": "markdown",
   "id": "0838ad7b-c89d-47a7-8288-29547d3142a6",
   "metadata": {},
   "source": [
    "## Control Cell - Set Variables and Filters \n",
    "\n",
    "The cell below is for generating repo_ids from the repo names. For this to work, the repo must already be in the database. If you want to manually assign a repo_id skip the cell below and read the comments on the next cell."
   ]
  },
  {
   "cell_type": "code",
   "execution_count": 21,
   "id": "f05c3dd5-8b56-4ae7-98f7-21d677a4d22d",
   "metadata": {},
   "outputs": [
    {
     "name": "stdout",
     "output_type": "stream",
     "text": [
      "[25440, 25448]\n"
     ]
    }
   ],
   "source": [
    "#add your repo name(s) here of the repo(s) you want to query if known (and in the database)\n",
    "repo_name_set = ['augur', 'grimoirelab']\n",
    "repo_set = []\n",
    "\n",
    "for repo_name in repo_name_set:\n",
    "    repo_query = salc.sql.text(f\"\"\"\n",
    "                 SET SCHEMA 'augur_data';\n",
    "                 SELECT \n",
    "                    b.repo_id\n",
    "                FROM\n",
    "                    repo_groups a,\n",
    "                    repo b\n",
    "                WHERE\n",
    "                    a.repo_group_id = b.repo_group_id AND\n",
    "                    b.repo_name = \\'{repo_name}\\'\n",
    "        \"\"\")\n",
    "\n",
    "    t = engine.execute(repo_query)\n",
    "    repo_id =t.mappings().all()[0].get('repo_id')\n",
    "    repo_set.append(repo_id)\n",
    "print(repo_set)"
   ]
  },
  {
   "cell_type": "code",
   "execution_count": 22,
   "id": "b7a15ecb-0ae8-49bd-b5bc-6fcdabfd7019",
   "metadata": {},
   "outputs": [],
   "source": [
    "#Take this out of quotes if you want to manually assign a repo_id number(s)\n",
    "#repo_set = [25440]"
   ]
  },
  {
   "cell_type": "markdown",
   "id": "79c1a71b-9654-4611-8254-7f50e162177f",
   "metadata": {},
   "source": [
    "## Query for commit analysis\n",
    "\n",
    "It should be noted that each entry on this table is for files, not commits. So there can be multiple files/rows for each commits  "
   ]
  },
  {
   "cell_type": "code",
   "execution_count": 23,
   "id": "497f55e9-0dd1-47d9-81a0-1e0d1f3158f3",
   "metadata": {},
   "outputs": [
    {
     "data": {
      "text/html": [
       "<div>\n",
       "<style scoped>\n",
       "    .dataframe tbody tr th:only-of-type {\n",
       "        vertical-align: middle;\n",
       "    }\n",
       "\n",
       "    .dataframe tbody tr th {\n",
       "        vertical-align: top;\n",
       "    }\n",
       "\n",
       "    .dataframe thead th {\n",
       "        text-align: right;\n",
       "    }\n",
       "</style>\n",
       "<table border=\"1\" class=\"dataframe\">\n",
       "  <thead>\n",
       "    <tr style=\"text-align: right;\">\n",
       "      <th></th>\n",
       "      <th>repo_name</th>\n",
       "      <th>commits</th>\n",
       "      <th>file</th>\n",
       "      <th>lines_added</th>\n",
       "      <th>lines_removed</th>\n",
       "      <th>date</th>\n",
       "      <th>time_stamp</th>\n",
       "    </tr>\n",
       "  </thead>\n",
       "  <tbody>\n",
       "    <tr>\n",
       "      <th>0</th>\n",
       "      <td>augur</td>\n",
       "      <td>79ee6429a570b2982fab12a20dea670a858e1141</td>\n",
       "      <td>34605744</td>\n",
       "      <td>2</td>\n",
       "      <td>2</td>\n",
       "      <td>2021-03-24</td>\n",
       "      <td>2021-03-24 16:47:14+01:00</td>\n",
       "    </tr>\n",
       "    <tr>\n",
       "      <th>1</th>\n",
       "      <td>augur</td>\n",
       "      <td>79ee6429a570b2982fab12a20dea670a858e1141</td>\n",
       "      <td>34605745</td>\n",
       "      <td>1</td>\n",
       "      <td>1</td>\n",
       "      <td>2021-03-24</td>\n",
       "      <td>2021-03-24 16:47:14+01:00</td>\n",
       "    </tr>\n",
       "    <tr>\n",
       "      <th>2</th>\n",
       "      <td>augur</td>\n",
       "      <td>574901f5cd8372006cc64ff2b9f14f5470bba4e4</td>\n",
       "      <td>34605767</td>\n",
       "      <td>6</td>\n",
       "      <td>6</td>\n",
       "      <td>2021-03-19</td>\n",
       "      <td>2021-03-19 07:21:06+01:00</td>\n",
       "    </tr>\n",
       "    <tr>\n",
       "      <th>3</th>\n",
       "      <td>augur</td>\n",
       "      <td>7877b0c7937c6242e18ed712d5fb14323d13115f</td>\n",
       "      <td>34605778</td>\n",
       "      <td>2</td>\n",
       "      <td>2</td>\n",
       "      <td>2021-03-24</td>\n",
       "      <td>2021-03-24 16:06:07+01:00</td>\n",
       "    </tr>\n",
       "    <tr>\n",
       "      <th>4</th>\n",
       "      <td>augur</td>\n",
       "      <td>7877b0c7937c6242e18ed712d5fb14323d13115f</td>\n",
       "      <td>34605779</td>\n",
       "      <td>1</td>\n",
       "      <td>1</td>\n",
       "      <td>2021-03-24</td>\n",
       "      <td>2021-03-24 16:06:07+01:00</td>\n",
       "    </tr>\n",
       "    <tr>\n",
       "      <th>...</th>\n",
       "      <td>...</td>\n",
       "      <td>...</td>\n",
       "      <td>...</td>\n",
       "      <td>...</td>\n",
       "      <td>...</td>\n",
       "      <td>...</td>\n",
       "      <td>...</td>\n",
       "    </tr>\n",
       "    <tr>\n",
       "      <th>27673</th>\n",
       "      <td>grimoirelab</td>\n",
       "      <td>fe7ab96bdf7d0187737285af6dc3c08f5c422f14</td>\n",
       "      <td>34556304</td>\n",
       "      <td>6</td>\n",
       "      <td>2</td>\n",
       "      <td>2018-01-19</td>\n",
       "      <td>2018-01-19 01:01:41+01:00</td>\n",
       "    </tr>\n",
       "    <tr>\n",
       "      <th>27674</th>\n",
       "      <td>grimoirelab</td>\n",
       "      <td>ff18ee3474f147c6c3b99997ac79b612fd7a2adc</td>\n",
       "      <td>34556713</td>\n",
       "      <td>2</td>\n",
       "      <td>2</td>\n",
       "      <td>2018-06-04</td>\n",
       "      <td>2018-06-04 00:05:02+02:00</td>\n",
       "    </tr>\n",
       "    <tr>\n",
       "      <th>27675</th>\n",
       "      <td>grimoirelab</td>\n",
       "      <td>ff22f21630e80b67707db0551ca1787de843e403</td>\n",
       "      <td>34556365</td>\n",
       "      <td>1</td>\n",
       "      <td>1</td>\n",
       "      <td>2018-09-10</td>\n",
       "      <td>2018-09-10 21:02:37+02:00</td>\n",
       "    </tr>\n",
       "    <tr>\n",
       "      <th>27676</th>\n",
       "      <td>grimoirelab</td>\n",
       "      <td>ff7bd07014362d6b1b54a7c4de6e70e8412ee1d0</td>\n",
       "      <td>34557194</td>\n",
       "      <td>15</td>\n",
       "      <td>0</td>\n",
       "      <td>2019-04-01</td>\n",
       "      <td>2019-04-01 10:52:44+02:00</td>\n",
       "    </tr>\n",
       "    <tr>\n",
       "      <th>27677</th>\n",
       "      <td>grimoirelab</td>\n",
       "      <td>ff93d710067dcef632a9403e98c9f9d8b691ef67</td>\n",
       "      <td>34556732</td>\n",
       "      <td>1</td>\n",
       "      <td>1</td>\n",
       "      <td>2019-01-28</td>\n",
       "      <td>2019-01-28 12:13:19+01:00</td>\n",
       "    </tr>\n",
       "  </tbody>\n",
       "</table>\n",
       "<p>27678 rows × 7 columns</p>\n",
       "</div>"
      ],
      "text/plain": [
       "         repo_name                                   commits      file  \\\n",
       "0            augur  79ee6429a570b2982fab12a20dea670a858e1141  34605744   \n",
       "1            augur  79ee6429a570b2982fab12a20dea670a858e1141  34605745   \n",
       "2            augur  574901f5cd8372006cc64ff2b9f14f5470bba4e4  34605767   \n",
       "3            augur  7877b0c7937c6242e18ed712d5fb14323d13115f  34605778   \n",
       "4            augur  7877b0c7937c6242e18ed712d5fb14323d13115f  34605779   \n",
       "...            ...                                       ...       ...   \n",
       "27673  grimoirelab  fe7ab96bdf7d0187737285af6dc3c08f5c422f14  34556304   \n",
       "27674  grimoirelab  ff18ee3474f147c6c3b99997ac79b612fd7a2adc  34556713   \n",
       "27675  grimoirelab  ff22f21630e80b67707db0551ca1787de843e403  34556365   \n",
       "27676  grimoirelab  ff7bd07014362d6b1b54a7c4de6e70e8412ee1d0  34557194   \n",
       "27677  grimoirelab  ff93d710067dcef632a9403e98c9f9d8b691ef67  34556732   \n",
       "\n",
       "       lines_added  lines_removed        date                 time_stamp  \n",
       "0                2              2  2021-03-24  2021-03-24 16:47:14+01:00  \n",
       "1                1              1  2021-03-24  2021-03-24 16:47:14+01:00  \n",
       "2                6              6  2021-03-19  2021-03-19 07:21:06+01:00  \n",
       "3                2              2  2021-03-24  2021-03-24 16:06:07+01:00  \n",
       "4                1              1  2021-03-24  2021-03-24 16:06:07+01:00  \n",
       "...            ...            ...         ...                        ...  \n",
       "27673            6              2  2018-01-19  2018-01-19 01:01:41+01:00  \n",
       "27674            2              2  2018-06-04  2018-06-04 00:05:02+02:00  \n",
       "27675            1              1  2018-09-10  2018-09-10 21:02:37+02:00  \n",
       "27676           15              0  2019-04-01  2019-04-01 10:52:44+02:00  \n",
       "27677            1              1  2019-01-28  2019-01-28 12:13:19+01:00  \n",
       "\n",
       "[27678 rows x 7 columns]"
      ]
     },
     "execution_count": 23,
     "metadata": {},
     "output_type": "execute_result"
    }
   ],
   "source": [
    "df_commits = pd.DataFrame()\n",
    "\n",
    "for repo_id in repo_set: \n",
    "\n",
    "    pr_query = salc.sql.text(f\"\"\"\n",
    "                SELECT\n",
    "                    r.repo_name,\n",
    "                    c.cmt_commit_hash AS commits,\n",
    "                    c.cmt_id AS file, \n",
    "\t\t\t\t\tc.cmt_added AS lines_added,\n",
    "\t\t\t\t\tc.cmt_removed AS lines_removed,\n",
    "                    c.cmt_author_date AS date, \n",
    "                    c.cmt_author_timestamp AS time_stamp\n",
    "                FROM\n",
    "                \trepo r,\n",
    "                    commits c\n",
    "                WHERE\n",
    "                \tr.repo_id = c.repo_id AND\n",
    "                    c.repo_id = \\'{repo_id}\\'\n",
    "        \"\"\")\n",
    "    df_current_repo = pd.read_sql(pr_query, con=engine)\n",
    "    df_commits = pd.concat([df_commits, df_current_repo])\n",
    "\n",
    "df_commits = df_commits.reset_index()\n",
    "df_commits.drop(\"index\", axis=1, inplace=True)\n",
    "        \n",
    "df_commits"
   ]
  },
  {
   "cell_type": "markdown",
   "id": "ba7fd3c2-4e00-4277-a93d-ed1c8920845d",
   "metadata": {},
   "source": [
    "### Number of commits (by hour/day/week)"
   ]
  },
  {
   "cell_type": "code",
   "execution_count": null,
   "id": "9da7ba5b-69ea-4183-bf36-224431e2c0e9",
   "metadata": {},
   "outputs": [],
   "source": []
  },
  {
   "cell_type": "markdown",
   "id": "4944da28-39ef-457d-bc44-48ddd35a8677",
   "metadata": {},
   "source": [
    "### Number of lines per commit"
   ]
  },
  {
   "cell_type": "markdown",
   "id": "f62747b3-8a00-4c59-919e-29438c649b40",
   "metadata": {},
   "source": [
    "### Number of lines/commits/file "
   ]
  },
  {
   "cell_type": "markdown",
   "id": "1332b75a-912d-4226-8a1e-767920d2ece2",
   "metadata": {},
   "source": [
    "## Query for issues analysis\n",
    " "
   ]
  },
  {
   "cell_type": "code",
   "execution_count": 26,
   "id": "3499fc81-cbbc-4a2d-8999-cc4075d9e740",
   "metadata": {},
   "outputs": [
    {
     "data": {
      "text/html": [
       "<div>\n",
       "<style scoped>\n",
       "    .dataframe tbody tr th:only-of-type {\n",
       "        vertical-align: middle;\n",
       "    }\n",
       "\n",
       "    .dataframe tbody tr th {\n",
       "        vertical-align: top;\n",
       "    }\n",
       "\n",
       "    .dataframe thead th {\n",
       "        text-align: right;\n",
       "    }\n",
       "</style>\n",
       "<table border=\"1\" class=\"dataframe\">\n",
       "  <thead>\n",
       "    <tr style=\"text-align: right;\">\n",
       "      <th></th>\n",
       "      <th>repo_name</th>\n",
       "      <th>issue</th>\n",
       "      <th>issue_number</th>\n",
       "      <th>gh_issue</th>\n",
       "      <th>created</th>\n",
       "      <th>closed</th>\n",
       "    </tr>\n",
       "  </thead>\n",
       "  <tbody>\n",
       "    <tr>\n",
       "      <th>0</th>\n",
       "      <td>augur</td>\n",
       "      <td>340115</td>\n",
       "      <td>28</td>\n",
       "      <td>213149529</td>\n",
       "      <td>2017-03-09 20:06:18</td>\n",
       "      <td>2017-04-07 21:18:01</td>\n",
       "    </tr>\n",
       "    <tr>\n",
       "      <th>1</th>\n",
       "      <td>augur</td>\n",
       "      <td>343231</td>\n",
       "      <td>886</td>\n",
       "      <td>682259157</td>\n",
       "      <td>2020-08-20 00:09:30</td>\n",
       "      <td>2020-08-20 00:16:50</td>\n",
       "    </tr>\n",
       "    <tr>\n",
       "      <th>2</th>\n",
       "      <td>augur</td>\n",
       "      <td>343216</td>\n",
       "      <td>880</td>\n",
       "      <td>679627659</td>\n",
       "      <td>2020-08-15 19:11:45</td>\n",
       "      <td>2020-08-17 14:30:04</td>\n",
       "    </tr>\n",
       "    <tr>\n",
       "      <th>3</th>\n",
       "      <td>augur</td>\n",
       "      <td>343467</td>\n",
       "      <td>967</td>\n",
       "      <td>724668885</td>\n",
       "      <td>2020-10-19 14:21:08</td>\n",
       "      <td>2020-10-19 14:21:34</td>\n",
       "    </tr>\n",
       "    <tr>\n",
       "      <th>4</th>\n",
       "      <td>augur</td>\n",
       "      <td>342738</td>\n",
       "      <td>740</td>\n",
       "      <td>628534692</td>\n",
       "      <td>2020-06-01 15:34:33</td>\n",
       "      <td>2020-08-20 10:48:14</td>\n",
       "    </tr>\n",
       "    <tr>\n",
       "      <th>...</th>\n",
       "      <td>...</td>\n",
       "      <td>...</td>\n",
       "      <td>...</td>\n",
       "      <td>...</td>\n",
       "      <td>...</td>\n",
       "      <td>...</td>\n",
       "    </tr>\n",
       "    <tr>\n",
       "      <th>1855</th>\n",
       "      <td>grimoirelab</td>\n",
       "      <td>735294</td>\n",
       "      <td>437</td>\n",
       "      <td>941801983</td>\n",
       "      <td>2021-07-12 08:23:29</td>\n",
       "      <td>2021-07-28 08:58:49</td>\n",
       "    </tr>\n",
       "    <tr>\n",
       "      <th>1856</th>\n",
       "      <td>grimoirelab</td>\n",
       "      <td>735295</td>\n",
       "      <td>436</td>\n",
       "      <td>924259145</td>\n",
       "      <td>2021-06-17 19:24:54</td>\n",
       "      <td>NaT</td>\n",
       "    </tr>\n",
       "    <tr>\n",
       "      <th>1857</th>\n",
       "      <td>grimoirelab</td>\n",
       "      <td>340606</td>\n",
       "      <td>284</td>\n",
       "      <td>559853733</td>\n",
       "      <td>2020-02-04 17:00:31</td>\n",
       "      <td>NaT</td>\n",
       "    </tr>\n",
       "    <tr>\n",
       "      <th>1858</th>\n",
       "      <td>grimoirelab</td>\n",
       "      <td>734649</td>\n",
       "      <td>429</td>\n",
       "      <td>889819068</td>\n",
       "      <td>2021-05-12 08:28:28</td>\n",
       "      <td>NaT</td>\n",
       "    </tr>\n",
       "    <tr>\n",
       "      <th>1859</th>\n",
       "      <td>grimoirelab</td>\n",
       "      <td>734631</td>\n",
       "      <td>428</td>\n",
       "      <td>875296742</td>\n",
       "      <td>2021-05-04 09:52:41</td>\n",
       "      <td>NaT</td>\n",
       "    </tr>\n",
       "  </tbody>\n",
       "</table>\n",
       "<p>1860 rows × 6 columns</p>\n",
       "</div>"
      ],
      "text/plain": [
       "        repo_name   issue  issue_number   gh_issue             created  \\\n",
       "0           augur  340115            28  213149529 2017-03-09 20:06:18   \n",
       "1           augur  343231           886  682259157 2020-08-20 00:09:30   \n",
       "2           augur  343216           880  679627659 2020-08-15 19:11:45   \n",
       "3           augur  343467           967  724668885 2020-10-19 14:21:08   \n",
       "4           augur  342738           740  628534692 2020-06-01 15:34:33   \n",
       "...           ...     ...           ...        ...                 ...   \n",
       "1855  grimoirelab  735294           437  941801983 2021-07-12 08:23:29   \n",
       "1856  grimoirelab  735295           436  924259145 2021-06-17 19:24:54   \n",
       "1857  grimoirelab  340606           284  559853733 2020-02-04 17:00:31   \n",
       "1858  grimoirelab  734649           429  889819068 2021-05-12 08:28:28   \n",
       "1859  grimoirelab  734631           428  875296742 2021-05-04 09:52:41   \n",
       "\n",
       "                  closed  \n",
       "0    2017-04-07 21:18:01  \n",
       "1    2020-08-20 00:16:50  \n",
       "2    2020-08-17 14:30:04  \n",
       "3    2020-10-19 14:21:34  \n",
       "4    2020-08-20 10:48:14  \n",
       "...                  ...  \n",
       "1855 2021-07-28 08:58:49  \n",
       "1856                 NaT  \n",
       "1857                 NaT  \n",
       "1858                 NaT  \n",
       "1859                 NaT  \n",
       "\n",
       "[1860 rows x 6 columns]"
      ]
     },
     "execution_count": 26,
     "metadata": {},
     "output_type": "execute_result"
    }
   ],
   "source": [
    "df_issues = pd.DataFrame()\n",
    "\n",
    "for repo_id in repo_set: \n",
    "\n",
    "    pr_query = salc.sql.text(f\"\"\"\n",
    "                SELECT\n",
    "                    r.repo_name,\n",
    "\t\t\t\t\ti.issue_id AS issue, \n",
    "\t\t\t\t\ti.gh_issue_number AS issue_number,\n",
    "\t\t\t\t\ti.gh_issue_id AS gh_issue,\n",
    "\t\t\t\t\ti.created_at AS created, \n",
    "\t\t\t\t\ti.closed_at AS closed\n",
    "                FROM\n",
    "                \trepo r,\n",
    "                    issues i\n",
    "                WHERE\n",
    "                \tr.repo_id = i.repo_id AND\n",
    "                    i.repo_id = \\'{repo_id}\\'\n",
    "        \"\"\")\n",
    "    df_current_repo = pd.read_sql(pr_query, con=engine)\n",
    "    df_issues = pd.concat([df_issues, df_current_repo])\n",
    "\n",
    "df_issues = df_issues.reset_index()\n",
    "df_issues.drop(\"index\", axis=1, inplace=True)\n",
    "        \n",
    "df_issues"
   ]
  },
  {
   "cell_type": "markdown",
   "id": "0d41981b-b7ed-461b-9cce-a24f4ea37170",
   "metadata": {},
   "source": [
    "### Numer of issues created (by hour/day/week)"
   ]
  },
  {
   "cell_type": "markdown",
   "id": "76d6cec5-f41f-4700-9cd2-ae4041593ace",
   "metadata": {},
   "source": [
    "### Numer of issues closed (by hour/day/week)"
   ]
  },
  {
   "cell_type": "markdown",
   "id": "6075e824-1713-42bb-b1da-139a44aa9eec",
   "metadata": {},
   "source": [
    "### Numer of issues open (by hour/day/week)"
   ]
  },
  {
   "cell_type": "markdown",
   "id": "724e0d38-321a-4cc7-8d17-db55c26a0e40",
   "metadata": {},
   "source": [
    "## Query for Pull Request Analysis"
   ]
  },
  {
   "cell_type": "code",
   "execution_count": null,
   "id": "66f8d7db-02b8-447b-879f-bf0a6eda4155",
   "metadata": {},
   "outputs": [],
   "source": [
    "df_pr = pd.DataFrame()\n",
    "\n",
    "for repo_id in repo_set: \n",
    "\n",
    "    pr_query = salc.sql.text(f\"\"\"\n",
    "                SELECT\n",
    "                    r.repo_name,\n",
    "\t\t\t\t\ti.issue_id AS issue, \n",
    "\t\t\t\t\ti.gh_issue_number AS issue_number,\n",
    "\t\t\t\t\ti.gh_issue_id AS gh_issue,\n",
    "\t\t\t\t\ti.created_at AS created, \n",
    "\t\t\t\t\ti.closed_at AS closed\n",
    "                FROM\n",
    "                \trepo r,\n",
    "                    pulll_request i\n",
    "                WHERE\n",
    "                \tr.repo_id = pr.repo_id AND\n",
    "                    r.repo_id = \\'{repo_id}\\'\n",
    "        \"\"\")\n",
    "    df_current_repo = pd.read_sql(pr_query, con=engine)\n",
    "    df_pr = pd.concat([df_pr, df_current_repo])\n",
    "\n",
    "df_pr = df_pr.reset_index()\n",
    "df_pr.drop(\"index\", axis=1, inplace=True)\n",
    "        \n",
    "df_pr"
   ]
  },
  {
   "cell_type": "markdown",
   "id": "3f420abb-ae77-4477-b6bf-867fcd9eadc5",
   "metadata": {},
   "source": [
    "### Numer of PRs created (by hour/day/week)"
   ]
  },
  {
   "cell_type": "markdown",
   "id": "0c2451ec-2845-4061-a935-4619dae439a3",
   "metadata": {},
   "source": [
    "### Numer of PRs closed (by hour/day/week)"
   ]
  },
  {
   "cell_type": "markdown",
   "id": "4ca4891e-c876-4cca-a0d3-5fbea459f026",
   "metadata": {},
   "source": [
    "### Numer of PRs open (by hour/day/week)"
   ]
  },
  {
   "cell_type": "markdown",
   "id": "c0b0433d-8fa6-4497-a0a1-a2393a093de7",
   "metadata": {},
   "source": [
    "### Number of Reviews started/closed (by hour/day/week)"
   ]
  },
  {
   "cell_type": "markdown",
   "id": "234b5564-ab1c-495e-98d5-75e215a04752",
   "metadata": {},
   "source": [
    "### Number of repositories"
   ]
  },
  {
   "cell_type": "markdown",
   "id": "0c5eca90-09c1-4802-8fdd-097bab0c0783",
   "metadata": {},
   "source": [
    "### Number of assignees"
   ]
  },
  {
   "cell_type": "markdown",
   "id": "94007c9f-85c6-4f9f-bd92-b4490ab4a350",
   "metadata": {},
   "source": [
    "### Commits "
   ]
  }
 ],
 "metadata": {
  "kernelspec": {
   "display_name": "Python 3",
   "language": "python",
   "name": "python3"
  },
  "language_info": {
   "codemirror_mode": {
    "name": "ipython",
    "version": 3
   },
   "file_extension": ".py",
   "mimetype": "text/x-python",
   "name": "python",
   "nbconvert_exporter": "python",
   "pygments_lexer": "ipython3",
   "version": "3.8.6"
  }
 },
 "nbformat": 4,
 "nbformat_minor": 5
}
