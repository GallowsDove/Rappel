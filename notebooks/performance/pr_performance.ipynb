{
 "cells": [
  {
   "cell_type": "markdown",
   "id": "c8aaba7f-77e2-4b5d-a520-98085454ed91",
   "metadata": {},
   "source": [
    "# Github Performance Metrics- Pull Requests\n",
    "\n",
    "**Activity by Repo**"
   ]
  },
  {
   "cell_type": "markdown",
   "id": "8ba881e3-910b-4e5c-9f2e-dad78609e2cd",
   "metadata": {},
   "source": [
    "This notebook will aim to query the Augur DB to access the neccessary information to be able to get the following issue metrics dirived from the GitHub Community Metrics working document https://docs.google.com/document/d/1Yocr6fk0J8EsVZnJwoIl3kRQaI94tI-XHe7VSMFT0yM/edit?usp=sharing"
   ]
  },
  {
   "cell_type": "markdown",
   "id": "6011394e-67c4-40c9-83cd-5fa3d6acaa96",
   "metadata": {},
   "source": [
    "Any necessary computations from the data to get the metric value will be done as the queries are determined"
   ]
  },
  {
   "cell_type": "code",
   "execution_count": 1,
   "id": "530acb97-54f5-4d3e-9ddc-6c051bbead77",
   "metadata": {
    "tags": [
     "hide-input"
    ]
   },
   "outputs": [],
   "source": [
    "import psycopg2\n",
    "import pandas as pd \n",
    "import sqlalchemy as salc\n",
    "import json\n",
    "import os\n",
    "import matplotlib.pyplot as plt\n",
    "import numpy as np\n",
    "plt.rcParams['figure.figsize'] = (15, 5)\n",
    "import warnings\n",
    "warnings.filterwarnings('ignore')\n",
    "\n",
    "with open(\"../../comm_cage.json\") as config_file:\n",
    "    config = json.load(config_file)"
   ]
  },
  {
   "cell_type": "code",
   "execution_count": 2,
   "id": "63c218a4-20d6-40a4-9b91-95be898d6bbc",
   "metadata": {
    "tags": [
     "hide-input"
    ]
   },
   "outputs": [],
   "source": [
    "database_connection_string = 'postgresql+psycopg2://{}:{}@{}:{}/{}'.format(config['user'], config['password'], config['host'], config['port'], config['database'])\n",
    "\n",
    "dbschema='augur_data'\n",
    "engine = salc.create_engine(\n",
    "    database_connection_string,\n",
    "    connect_args={'options': '-csearch_path={}'.format(dbschema)})"
   ]
  },
  {
   "cell_type": "code",
   "execution_count": 3,
   "id": "8cd9c044-1e8c-4fec-b467-b981b13f28ba",
   "metadata": {},
   "outputs": [
    {
     "name": "stdout",
     "output_type": "stream",
     "text": [
      "[30740]\n"
     ]
    }
   ],
   "source": [
    "#add your repo name(s) here of the repo(s) you want to query if known (and in the database)\n",
    "repo_name_set = ['move2kube']\n",
    "repo_set = []\n",
    "\n",
    "for repo_name in repo_name_set:\n",
    "    repo_query = salc.sql.text(f\"\"\"\n",
    "                 SET SCHEMA 'augur_data';\n",
    "                 SELECT \n",
    "                    b.repo_id\n",
    "                FROM\n",
    "                    repo_groups a,\n",
    "                    repo b\n",
    "                WHERE\n",
    "                    a.repo_group_id = b.repo_group_id AND\n",
    "                    b.repo_name = \\'{repo_name}\\'\n",
    "        \"\"\")\n",
    "\n",
    "    t = engine.execute(repo_query)\n",
    "    repo_id =t.mappings().all()[0].get('repo_id')\n",
    "    repo_set.append(repo_id)\n",
    "print(repo_set)"
   ]
  },
  {
   "cell_type": "code",
   "execution_count": 4,
   "id": "234eb0a6-f499-408a-bd1d-f5bf60645af2",
   "metadata": {},
   "outputs": [],
   "source": [
    "#Take this out of quotes if you want to manually assign a repo_id number(s)\n",
    "#repo_set = [25440]"
   ]
  },
  {
   "cell_type": "markdown",
   "id": "853df240-4a87-4600-b690-ba86ec252903",
   "metadata": {},
   "source": [
    "### Query for Pull Request Analysis"
   ]
  },
  {
   "cell_type": "code",
   "execution_count": 5,
   "id": "c13d3f35-a314-4cc3-beb4-bc28d6a3d4a4",
   "metadata": {
    "tags": [
     "hide-input",
     "hide-output"
    ]
   },
   "outputs": [
    {
     "data": {
      "text/html": [
       "<div>\n",
       "<style scoped>\n",
       "    .dataframe tbody tr th:only-of-type {\n",
       "        vertical-align: middle;\n",
       "    }\n",
       "\n",
       "    .dataframe tbody tr th {\n",
       "        vertical-align: top;\n",
       "    }\n",
       "\n",
       "    .dataframe thead th {\n",
       "        text-align: right;\n",
       "    }\n",
       "</style>\n",
       "<table border=\"1\" class=\"dataframe\">\n",
       "  <thead>\n",
       "    <tr style=\"text-align: right;\">\n",
       "      <th></th>\n",
       "      <th>repo_name</th>\n",
       "      <th>pull_request</th>\n",
       "      <th>created</th>\n",
       "      <th>closed</th>\n",
       "      <th>merged</th>\n",
       "    </tr>\n",
       "  </thead>\n",
       "  <tbody>\n",
       "    <tr>\n",
       "      <th>0</th>\n",
       "      <td>move2kube</td>\n",
       "      <td>27277</td>\n",
       "      <td>2020-09-18 20:18:03</td>\n",
       "      <td>2020-09-18 20:18:47</td>\n",
       "      <td>2020-09-18 20:18:47</td>\n",
       "    </tr>\n",
       "    <tr>\n",
       "      <th>1</th>\n",
       "      <td>move2kube</td>\n",
       "      <td>27278</td>\n",
       "      <td>2020-09-18 22:09:58</td>\n",
       "      <td>2020-09-18 22:19:40</td>\n",
       "      <td>2020-09-18 22:19:40</td>\n",
       "    </tr>\n",
       "    <tr>\n",
       "      <th>2</th>\n",
       "      <td>move2kube</td>\n",
       "      <td>27279</td>\n",
       "      <td>2020-09-18 22:22:55</td>\n",
       "      <td>2020-09-18 22:23:17</td>\n",
       "      <td>2020-09-18 22:23:17</td>\n",
       "    </tr>\n",
       "    <tr>\n",
       "      <th>3</th>\n",
       "      <td>move2kube</td>\n",
       "      <td>27280</td>\n",
       "      <td>2020-09-19 04:55:44</td>\n",
       "      <td>2020-09-19 05:05:50</td>\n",
       "      <td>2020-09-19 05:05:50</td>\n",
       "    </tr>\n",
       "    <tr>\n",
       "      <th>4</th>\n",
       "      <td>move2kube</td>\n",
       "      <td>27281</td>\n",
       "      <td>2020-09-19 11:19:29</td>\n",
       "      <td>2020-09-19 15:01:47</td>\n",
       "      <td>2020-09-19 15:01:47</td>\n",
       "    </tr>\n",
       "  </tbody>\n",
       "</table>\n",
       "</div>"
      ],
      "text/plain": [
       "   repo_name  pull_request             created              closed  \\\n",
       "0  move2kube         27277 2020-09-18 20:18:03 2020-09-18 20:18:47   \n",
       "1  move2kube         27278 2020-09-18 22:09:58 2020-09-18 22:19:40   \n",
       "2  move2kube         27279 2020-09-18 22:22:55 2020-09-18 22:23:17   \n",
       "3  move2kube         27280 2020-09-19 04:55:44 2020-09-19 05:05:50   \n",
       "4  move2kube         27281 2020-09-19 11:19:29 2020-09-19 15:01:47   \n",
       "\n",
       "               merged  \n",
       "0 2020-09-18 20:18:47  \n",
       "1 2020-09-18 22:19:40  \n",
       "2 2020-09-18 22:23:17  \n",
       "3 2020-09-19 05:05:50  \n",
       "4 2020-09-19 15:01:47  "
      ]
     },
     "execution_count": 5,
     "metadata": {},
     "output_type": "execute_result"
    }
   ],
   "source": [
    "df_pr = pd.DataFrame()\n",
    "\n",
    "for repo_id in repo_set: \n",
    "\n",
    "    pr_query = salc.sql.text(f\"\"\"\n",
    "                SELECT\n",
    "                    r.repo_name,\n",
    "\t\t\t\t\tpr.pull_request_id AS pull_request, \n",
    "\t\t\t\t\tpr.pr_created_at AS created, \n",
    "\t\t\t\t\tpr.pr_closed_at AS closed,\n",
    "\t\t\t\t\tpr.pr_merged_at  AS merged \n",
    "                FROM\n",
    "                \trepo r,\n",
    "                    pull_requests pr\n",
    "                WHERE\n",
    "                \tr.repo_id = pr.repo_id AND\n",
    "                    r.repo_id = \\'{repo_id}\\'\n",
    "        \"\"\")\n",
    "    df_current_repo = pd.read_sql(pr_query, con=engine)\n",
    "    df_pr = pd.concat([df_pr, df_current_repo])\n",
    "\n",
    "df_pr = df_pr.reset_index()\n",
    "df_pr.drop(\"index\", axis=1, inplace=True)\n",
    "        \n",
    "df_pr.head()"
   ]
  },
  {
   "cell_type": "code",
   "execution_count": 6,
   "id": "0500c524-e5fb-4bf1-968d-6c9bc1f929e4",
   "metadata": {
    "tags": [
     "hide-input",
     "hide-output"
    ]
   },
   "outputs": [
    {
     "data": {
      "text/html": [
       "<div>\n",
       "<style scoped>\n",
       "    .dataframe tbody tr th:only-of-type {\n",
       "        vertical-align: middle;\n",
       "    }\n",
       "\n",
       "    .dataframe tbody tr th {\n",
       "        vertical-align: top;\n",
       "    }\n",
       "\n",
       "    .dataframe thead th {\n",
       "        text-align: right;\n",
       "    }\n",
       "</style>\n",
       "<table border=\"1\" class=\"dataframe\">\n",
       "  <thead>\n",
       "    <tr style=\"text-align: right;\">\n",
       "      <th></th>\n",
       "      <th>repo_name</th>\n",
       "      <th>pull_request_id</th>\n",
       "      <th>pr_msg_ref_id</th>\n",
       "      <th>pr_created_at</th>\n",
       "      <th>msg_time</th>\n",
       "      <th>comment_text</th>\n",
       "    </tr>\n",
       "  </thead>\n",
       "  <tbody>\n",
       "    <tr>\n",
       "      <th>0</th>\n",
       "      <td>move2kube</td>\n",
       "      <td>27283</td>\n",
       "      <td>33243</td>\n",
       "      <td>2020-09-21 17:55:50</td>\n",
       "      <td>2020-09-21 18:05:19</td>\n",
       "      <td># [Codecov](https://codecov.io/gh/konveyor/mov...</td>\n",
       "    </tr>\n",
       "    <tr>\n",
       "      <th>1</th>\n",
       "      <td>move2kube</td>\n",
       "      <td>27284</td>\n",
       "      <td>33244</td>\n",
       "      <td>2020-09-25 08:11:52</td>\n",
       "      <td>2020-09-25 08:29:27</td>\n",
       "      <td># [Codecov](https://codecov.io/gh/konveyor/mov...</td>\n",
       "    </tr>\n",
       "    <tr>\n",
       "      <th>2</th>\n",
       "      <td>move2kube</td>\n",
       "      <td>27285</td>\n",
       "      <td>33245</td>\n",
       "      <td>2020-09-25 09:22:08</td>\n",
       "      <td>2020-09-25 09:38:35</td>\n",
       "      <td># [Codecov](https://codecov.io/gh/konveyor/mov...</td>\n",
       "    </tr>\n",
       "    <tr>\n",
       "      <th>3</th>\n",
       "      <td>move2kube</td>\n",
       "      <td>27298</td>\n",
       "      <td>33246</td>\n",
       "      <td>2020-10-01 21:20:41</td>\n",
       "      <td>2020-10-02 03:55:36</td>\n",
       "      <td>Thanks @Ocramoi for the pull request. Much app...</td>\n",
       "    </tr>\n",
       "    <tr>\n",
       "      <th>4</th>\n",
       "      <td>move2kube</td>\n",
       "      <td>27298</td>\n",
       "      <td>33247</td>\n",
       "      <td>2020-10-01 21:20:41</td>\n",
       "      <td>2020-10-02 03:56:49</td>\n",
       "      <td>Sure! I'll get right to it.</td>\n",
       "    </tr>\n",
       "  </tbody>\n",
       "</table>\n",
       "</div>"
      ],
      "text/plain": [
       "   repo_name  pull_request_id  pr_msg_ref_id       pr_created_at  \\\n",
       "0  move2kube            27283          33243 2020-09-21 17:55:50   \n",
       "1  move2kube            27284          33244 2020-09-25 08:11:52   \n",
       "2  move2kube            27285          33245 2020-09-25 09:22:08   \n",
       "3  move2kube            27298          33246 2020-10-01 21:20:41   \n",
       "4  move2kube            27298          33247 2020-10-01 21:20:41   \n",
       "\n",
       "             msg_time                                       comment_text  \n",
       "0 2020-09-21 18:05:19  # [Codecov](https://codecov.io/gh/konveyor/mov...  \n",
       "1 2020-09-25 08:29:27  # [Codecov](https://codecov.io/gh/konveyor/mov...  \n",
       "2 2020-09-25 09:38:35  # [Codecov](https://codecov.io/gh/konveyor/mov...  \n",
       "3 2020-10-02 03:55:36  Thanks @Ocramoi for the pull request. Much app...  \n",
       "4 2020-10-02 03:56:49                        Sure! I'll get right to it.  "
      ]
     },
     "execution_count": 6,
     "metadata": {},
     "output_type": "execute_result"
    }
   ],
   "source": [
    "df_pr_comments = pd.DataFrame()\n",
    "\n",
    "for repo_id in repo_set: \n",
    "\n",
    "    pr_query = salc.sql.text(f\"\"\"\n",
    "                SELECT\n",
    "                    r.repo_name,\n",
    "                    prm.pull_request_id,\n",
    "                    prm.pr_msg_ref_id,\n",
    "                    pr.pr_created_at,\n",
    "                    m.msg_timestamp msg_time,\n",
    "\t\t\t\t\tm.msg_text comment_text\n",
    "                FROM\n",
    "                \trepo r,\n",
    "                    pull_requests pr,\n",
    "                    pull_request_message_ref prm, \n",
    "                    message m \n",
    "                WHERE\n",
    "                \tm.msg_id = prm.msg_id AND\n",
    "                    prm.pull_request_id = pr.pull_request_id AND\n",
    "                \tpr.repo_id = r.repo_id AND\n",
    "                    r.repo_id = \\'{repo_id}\\'\n",
    "        \"\"\")\n",
    "    df_current_repo = pd.read_sql(pr_query, con=engine)\n",
    "    df_pr_comments = pd.concat([df_pr_comments, df_current_repo])\n",
    "\n",
    "df_pr_comments = df_pr_comments.reset_index()\n",
    "df_pr_comments.drop(\"index\", axis=1, inplace=True)\n",
    "        \n",
    "df_pr_comments.head()"
   ]
  },
  {
   "cell_type": "code",
   "execution_count": 7,
   "id": "83e5883d-57d7-4e55-b3b1-432bd9e91657",
   "metadata": {},
   "outputs": [],
   "source": [
    "df_pr_focus = df_pr\n",
    "repo_focus = 'move2kube'"
   ]
  },
  {
   "cell_type": "code",
   "execution_count": 8,
   "id": "76606fe1-e87d-4d2f-b479-2fa71617cfe2",
   "metadata": {},
   "outputs": [],
   "source": [
    "#IF YOU ONLY WANT TO LOOK AT A ONE OF THE REPOS QUERIED \n",
    "#repo_focus = 'augur'\n",
    "#df_pr_focus = df_pr[df_pr['repo_name'] == repo_focus]"
   ]
  },
  {
   "cell_type": "markdown",
   "id": "b4584911-01bd-4bef-9dbb-eb5f1cf90ec3",
   "metadata": {},
   "source": [
    "## Median Time to Close/Merge"
   ]
  },
  {
   "cell_type": "code",
   "execution_count": 9,
   "id": "7ab586c4-01f9-4c9c-be63-f912fb903411",
   "metadata": {
    "tags": [
     "hide-output"
    ]
   },
   "outputs": [],
   "source": [
    "df_pr_closed = df_pr_focus[df_pr_focus['merged'].isnull()]\n",
    "df_pr_merged = df_pr_focus[df_pr_focus['merged'].notna()]\n",
    "\n",
    "df_pr_closed['time_to_close'] = (df_pr_closed.closed - df_pr_closed.created)\n",
    "df_pr_merged['time_to_merge'] = (df_pr_merged.merged - df_pr_merged.created)"
   ]
  },
  {
   "cell_type": "code",
   "execution_count": 10,
   "id": "2279a5dc-6039-4708-8059-8827b0f3122a",
   "metadata": {},
   "outputs": [],
   "source": [
    "df_pr_closed_monthly = df_pr_closed['time_to_close'].groupby(df_pr_closed.created.dt.to_period(\"M\")).agg('median')\n",
    "df_pr_merged_monthly = df_pr_merged['time_to_merge'].groupby(df_pr_merged.created.dt.to_period(\"M\")).agg('median')"
   ]
  },
  {
   "cell_type": "code",
   "execution_count": 11,
   "id": "364e09c5-4cbc-4712-bcb5-b9ea5a8140f0",
   "metadata": {},
   "outputs": [
    {
     "data": {
      "text/plain": [
       "created\n",
       "2020-09          0 days 00:00:26\n",
       "2020-10   0 days 00:16:00.500000\n",
       "2020-11          0 days 00:16:55\n",
       "2020-12   0 days 00:10:58.500000\n",
       "2021-01          0 days 00:45:58\n",
       "Freq: M, Name: time_to_merge, dtype: timedelta64[ns]"
      ]
     },
     "execution_count": 11,
     "metadata": {},
     "output_type": "execute_result"
    }
   ],
   "source": [
    "df_pr_merged_monthly.head()"
   ]
  },
  {
   "cell_type": "markdown",
   "id": "de888cae-38c4-4f79-85f1-a9cb55ee1243",
   "metadata": {},
   "source": [
    "### Time Granularity and Normalization"
   ]
  },
  {
   "cell_type": "markdown",
   "id": "ee9f6ccb-b856-4c43-981e-6c71e23769fc",
   "metadata": {},
   "source": [
    "We can visualize the trend in median time to close/merge PRs by month. However, in order to best capture all the median values including the outliers we can normalize the data by taking the `log` of the values before plotting. We should also consider the level of granularity we would like to capture and visualize the median time in i.e. days vs hours vs minutes vs seconds."
   ]
  },
  {
   "cell_type": "markdown",
   "id": "b45f90ae-e1bf-43cf-b27d-bfde17d6977d",
   "metadata": {},
   "source": [
    "Let us first consider the different levels of granularity for the median time to close/merge PRs."
   ]
  },
  {
   "cell_type": "code",
   "execution_count": 12,
   "id": "acbdd585-4dea-45b8-9132-c11aa5076644",
   "metadata": {
    "ExecuteTime": {
     "end_time": "2021-09-16T16:59:13.194732Z",
     "start_time": "2021-09-16T16:59:13.191243Z"
    }
   },
   "outputs": [],
   "source": [
    "# days\n",
    "df_pr_closed_monthly_days = df_pr_closed_monthly.astype('timedelta64[D]')\n",
    "df_pr_merged_monthly_days = df_pr_merged_monthly.astype('timedelta64[D]')\n",
    "# hours\n",
    "df_pr_closed_monthly_hours = df_pr_closed_monthly.astype('timedelta64[h]')\n",
    "df_pr_merged_monthly_hours = df_pr_merged_monthly.astype('timedelta64[h]')\n",
    "# minutes\n",
    "df_pr_closed_monthly_minutes = df_pr_closed_monthly.astype('timedelta64[m]')\n",
    "df_pr_merged_monthly_minutes = df_pr_merged_monthly.astype('timedelta64[m]')\n",
    "# seconds\n",
    "df_pr_closed_monthly_seconds = df_pr_closed_monthly.astype('timedelta64[s]')\n",
    "df_pr_merged_monthly_seconds = df_pr_merged_monthly.astype('timedelta64[s]')"
   ]
  },
  {
   "cell_type": "markdown",
   "id": "1bf59e2d-7e3f-43c0-bc6f-a474fd947b97",
   "metadata": {},
   "source": [
    "We can now proceed to normalizing the values"
   ]
  },
  {
   "cell_type": "code",
   "execution_count": 13,
   "id": "510a0173-e068-4c53-8eae-ae101a5e5444",
   "metadata": {},
   "outputs": [],
   "source": [
    "# Normalize PRs closed\n",
    "df_pr_closed_monthly_days_norm = np.log(df_pr_closed_monthly_days)\n",
    "df_pr_closed_monthly_hours_norm = np.log(df_pr_closed_monthly_hours)\n",
    "df_pr_closed_monthly_minutes_norm = np.log(df_pr_closed_monthly_minutes)\n",
    "df_pr_closed_monthly_seconds_norm = np.log(df_pr_closed_monthly_seconds)\n",
    "# Normalize PRs merged\n",
    "df_pr_merged_monthly_days_norm = np.log(df_pr_merged_monthly_days)\n",
    "df_pr_merged_monthly_hours_norm = np.log(df_pr_merged_monthly_hours)\n",
    "df_pr_merged_monthly_minutes_norm = np.log(df_pr_merged_monthly_minutes)\n",
    "df_pr_merged_monthly_seconds_norm = np.log(df_pr_merged_monthly_seconds)"
   ]
  },
  {
   "cell_type": "markdown",
   "id": "f4f1ed60-7b02-4cc1-adf0-cf6a3c40cf42",
   "metadata": {},
   "source": [
    "## Line Plot"
   ]
  },
  {
   "cell_type": "markdown",
   "id": "a4111076-ab9e-42a7-b145-8fa74612fbad",
   "metadata": {},
   "source": [
    "We will now consider the granularity level to be \"days\" and plot the median time to close/merge PRs grouped by months."
   ]
  },
  {
   "cell_type": "code",
   "execution_count": 14,
   "id": "ad9ab2a4-a2f2-4504-aa31-2afa8735e1da",
   "metadata": {},
   "outputs": [
    {
     "data": {
      "image/png": "[encoded data removed]",
      "text/plain": [
       "<Figure size 1080x360 with 1 Axes>"
      ]
     },
     "metadata": {
      "needs_background": "light"
     },
     "output_type": "display_data"
    }
   ],
   "source": [
    "ax = plt.gca()\n",
    "\n",
    "plt.xlabel(\"Month\")\n",
    "plt.ylabel(\"Median time to close (days)\")\n",
    "plt.title(\"Median Time to Close/Merge (Monthly)\")\n",
    "\n",
    "df_pr_merged_monthly_days.plot(kind='line',x='created',y='time_to_merge',ax=ax,legend = True)\n",
    "df_pr_closed_monthly_days.plot(kind='line',x='created',y='time_to_close', color='red', ax=ax,legend = True)\n",
    "plt.show()"
   ]
  },
  {
   "cell_type": "markdown",
   "id": "b4571faf-9c89-4172-8962-3fcad11b2c24",
   "metadata": {},
   "source": [
    "PRs can be merged/closed within seconds/minutes/hours/days, hence it is important to consider all possible time units for better visualizations. We can further expand the above line graph by plotting a bar graph with the normalized log values."
   ]
  },
  {
   "cell_type": "markdown",
   "id": "23dbf8c9-6e19-4a2a-9883-52f4c19f1769",
   "metadata": {},
   "source": [
    "## Bar Plot\n",
    "\n",
    "Let's plot the bar graph for different time granularity levels by considering the normalized log values to attain a better perspective."
   ]
  },
  {
   "cell_type": "markdown",
   "id": "ba5d5a76-abd7-49e5-908a-263a14025985",
   "metadata": {},
   "source": [
    "#### Median Time in Days"
   ]
  },
  {
   "cell_type": "code",
   "execution_count": 15,
   "id": "42a3000a-ccfd-4e82-aa01-403d983d3ba8",
   "metadata": {
    "ExecuteTime": {
     "end_time": "2021-09-16T16:59:14.265762Z",
     "start_time": "2021-09-16T16:59:13.590933Z"
    }
   },
   "outputs": [
    {
     "data": {
      "image/png": "[encoded data removed]",
      "text/plain": [
       "<Figure size 1080x360 with 1 Axes>"
      ]
     },
     "metadata": {
      "needs_background": "light"
     },
     "output_type": "display_data"
    }
   ],
   "source": [
    "ax = plt.gca()\n",
    "\n",
    "plt.xlabel(\"Month\")\n",
    "plt.ylabel(\"Median time to close (log days)\")\n",
    "plt.title(\"Median Time to Close/Merge (Monthly)\")\n",
    "\n",
    "df_pr_merged_monthly_days_norm.plot(kind='bar',x='created',y='time_to_merge',ax=ax,legend = True)\n",
    "df_pr_closed_monthly_days_norm.plot(kind='bar',x='created',y='time_to_close', color='red', ax=ax,legend = True)\n",
    "plt.show()"
   ]
  },
  {
   "cell_type": "markdown",
   "id": "84f061ba-f1b1-42e6-a17f-85543edf65b3",
   "metadata": {},
   "source": [
    "From the above graph we see that there are a few missing values which can be misleading, hence its worthwhile to explore the median time in other time units such as hours, seconds or minutes."
   ]
  },
  {
   "cell_type": "markdown",
   "id": "5b5613dc-84af-4675-afad-cc6ba51e883b",
   "metadata": {},
   "source": [
    "#### Median Time in Hours"
   ]
  },
  {
   "cell_type": "code",
   "execution_count": 16,
   "id": "1925b709-9f6a-4048-bd24-0bf2a3f20e0c",
   "metadata": {},
   "outputs": [
    {
     "data": {
      "image/png": "[encoded data removed]",
      "text/plain": [
       "<Figure size 1080x360 with 1 Axes>"
      ]
     },
     "metadata": {
      "needs_background": "light"
     },
     "output_type": "display_data"
    }
   ],
   "source": [
    "ax = plt.gca()\n",
    "\n",
    "plt.xlabel(\"Month\")\n",
    "plt.ylabel(\"Median time to close (log hours)\")\n",
    "plt.title(\"Median Time to Close/Merge (Monthly)\")\n",
    "\n",
    "df_pr_merged_monthly_hours_norm.plot(kind='bar',x='created',y='time_to_merge',ax=ax,legend = True)\n",
    "df_pr_closed_monthly_hours_norm.plot(kind='bar',x='created',y='time_to_close', color='red', ax=ax,legend = True)\n",
    "plt.show()"
   ]
  },
  {
   "cell_type": "markdown",
   "id": "211219f3-5ba7-4785-967d-a5352cf856c8",
   "metadata": {},
   "source": [
    "#### Median Time in Minutes"
   ]
  },
  {
   "cell_type": "code",
   "execution_count": 17,
   "id": "ac8649d7-ed8b-433c-9973-6e90c58b0c44",
   "metadata": {},
   "outputs": [
    {
     "data": {
      "image/png": "[encoded data removed]",
      "text/plain": [
       "<Figure size 1080x360 with 1 Axes>"
      ]
     },
     "metadata": {
      "needs_background": "light"
     },
     "output_type": "display_data"
    }
   ],
   "source": [
    "ax = plt.gca()\n",
    "\n",
    "plt.xlabel(\"Month\")\n",
    "plt.ylabel(\"Median time to close (log minutes)\")\n",
    "plt.title(\"Median Time to Close/Merge (Monthly)\")\n",
    "\n",
    "df_pr_merged_monthly_minutes_norm.plot(kind='bar',x='created',y='time_to_merge',ax=ax,legend = True)\n",
    "df_pr_closed_monthly_minutes_norm.plot(kind='bar',x='created',y='time_to_close', color='red', ax=ax,legend = True)\n",
    "plt.show()"
   ]
  },
  {
   "cell_type": "markdown",
   "id": "95768216-8992-441c-bb55-8cb19efa0ddb",
   "metadata": {},
   "source": [
    "#### Median Time in Seconds"
   ]
  },
  {
   "cell_type": "code",
   "execution_count": 18,
   "id": "d915b27e-a1d1-44b5-ac24-eaba990efab5",
   "metadata": {},
   "outputs": [
    {
     "data": {
      "image/png": "[encoded data removed]",
      "text/plain": [
       "<Figure size 1080x360 with 1 Axes>"
      ]
     },
     "metadata": {
      "needs_background": "light"
     },
     "output_type": "display_data"
    }
   ],
   "source": [
    "ax = plt.gca()\n",
    "\n",
    "plt.xlabel(\"Month\")\n",
    "plt.ylabel(\"Median time to close (log seconds)\")\n",
    "plt.title(\"Median Time to Close/Merge (Monthly)\")\n",
    "\n",
    "df_pr_merged_monthly_seconds_norm.plot(kind='bar',x='created',y='time_to_merge',ax=ax,legend = True)\n",
    "df_pr_closed_monthly_seconds_norm.plot(kind='bar',x='created',y='time_to_close', color='red', ax=ax,legend = True)\n",
    "plt.show()"
   ]
  },
  {
   "cell_type": "markdown",
   "id": "c3a32339-3484-4bc5-82ff-a9ed15b542da",
   "metadata": {},
   "source": [
    "## Monthly PRs Close/Merged\n",
    "\n",
    "Let's now plot the number of PRs closed/merged monthly"
   ]
  },
  {
   "cell_type": "code",
   "execution_count": 19,
   "id": "b5037ab8-7e14-4ae7-991c-072f2bdc35f6",
   "metadata": {
    "tags": []
   },
   "outputs": [],
   "source": [
    "df_pr_c_m_monthly = df_pr_focus[['merged','closed']].groupby(df_pr.closed.dt.to_period(\"M\")).agg('count')"
   ]
  },
  {
   "cell_type": "code",
   "execution_count": 20,
   "id": "1a2f2ae0-0266-47ef-bdfc-b5deaca1826d",
   "metadata": {},
   "outputs": [
    {
     "data": {
      "image/png": "[encoded data removed]",
      "text/plain": [
       "<Figure size 1080x360 with 1 Axes>"
      ]
     },
     "metadata": {
      "needs_background": "light"
     },
     "output_type": "display_data"
    }
   ],
   "source": [
    "df_pr_c_m_monthly.plot.bar()\n",
    "\n",
    "plt.xlabel(\"Month\")\n",
    "plt.ylabel(\"# PRs\")\n",
    "plt.title(\"# Monthly PRs Closed/Merged for \"+repo_focus.capitalize() +\" repo\")\n",
    "plt.show()"
   ]
  },
  {
   "cell_type": "markdown",
   "id": "a30e3ea5-c9d8-4cf2-9277-067c391decfe",
   "metadata": {},
   "source": [
    "From the above graph, we see that for the `augur` repo highest number of PRs were merged/closed in March 2020."
   ]
  },
  {
   "cell_type": "markdown",
   "id": "f51b0ee4-fa6f-4c73-bf1f-4b190a81ccef",
   "metadata": {},
   "source": [
    "## Percent pull requests merged vs not \n",
    "\n",
    "Let us now find out what percentage of the PRs were merged and not merged."
   ]
  },
  {
   "cell_type": "code",
   "execution_count": 21,
   "id": "d3d0106f-dbd0-4a96-9ef8-ca11490ba5ec",
   "metadata": {},
   "outputs": [],
   "source": [
    "df_pr_compare = df_pr_focus.dropna(subset=['closed'])\n",
    "df_pr_compare[\"merged_in\"] = False\n",
    "df_pr_compare[\"merged_in\"] = df_pr_compare[\"merged_in\"].where(df_pr_compare[\"merged\"].isna(),other= True)"
   ]
  },
  {
   "cell_type": "code",
   "execution_count": 22,
   "id": "763a3f47-dd51-4274-a1fa-5a117a189560",
   "metadata": {},
   "outputs": [],
   "source": [
    "percent = df_pr_compare[\"pull_request\"].groupby(df_pr_compare.merged_in).agg('count')"
   ]
  },
  {
   "cell_type": "code",
   "execution_count": 23,
   "id": "a31f923d-501f-4fba-9b0f-df245db7ec15",
   "metadata": {},
   "outputs": [
    {
     "data": {
      "image/png": "[encoded data removed]",
      "text/plain": [
       "<Figure size 1080x576 with 1 Axes>"
      ]
     },
     "metadata": {},
     "output_type": "display_data"
    }
   ],
   "source": [
    "labels = [\"Not Merged\",\"Merged\"]\n",
    "percent.plot.pie(figsize=(15,8),autopct='%1.1f%%',startangle=90,pctdistance=0.9,labels=labels)\n",
    "plt.title(\"Merged PR vs Not Merged\")\n",
    "plt.tight_layout()\n",
    "plt.show()"
   ]
  },
  {
   "cell_type": "markdown",
   "id": "5d5b3665-9232-444d-885a-9362a06948ca",
   "metadata": {},
   "source": [
    "From the above graph, we see that ~82% of the PRs were merged in the `augur` repo."
   ]
  },
  {
   "cell_type": "markdown",
   "id": "8360245f-4b11-4742-8b2f-72264724536c",
   "metadata": {},
   "source": [
    "## Time to First Response PR\n",
    "\n",
    "Let's now identify the time taken for a first response in a PR."
   ]
  },
  {
   "cell_type": "code",
   "execution_count": 24,
   "id": "0ea4773d-9594-407c-b3dc-a0b2bb9da032",
   "metadata": {},
   "outputs": [],
   "source": [
    "df_pr_comments_focus = df_pr_comments[df_pr_comments['repo_name'] == repo_focus]\n",
    "df_pr_comments_focus = df_pr_comments_focus.sort_values(by= \"msg_time\")\n",
    "df_pr_comments_focus = df_pr_comments_focus.reset_index(drop=True)\n",
    "df_pr_comments_focus = df_pr_comments_focus.drop_duplicates(subset='pull_request_id', keep='first')"
   ]
  },
  {
   "cell_type": "code",
   "execution_count": 25,
   "id": "512139d2-fcb4-4597-8c06-07d23c3b646a",
   "metadata": {},
   "outputs": [],
   "source": [
    "not_answered = df_pr_focus.shape[0]-df_pr_comments_focus.shape[0]\n",
    "answered = df_pr_comments_focus.shape[0]"
   ]
  },
  {
   "cell_type": "markdown",
   "id": "7715c107-e35b-4588-a8c9-9b2986022985",
   "metadata": {},
   "source": [
    "### Pie Chart: Reponse Percent\n",
    "\n",
    "We can visualize the response percentage by plotting a pie chart."
   ]
  },
  {
   "cell_type": "code",
   "execution_count": 26,
   "id": "b10cd44b-a3dc-47ce-b27b-88d1f4f41a50",
   "metadata": {},
   "outputs": [
    {
     "data": {
      "image/png": "[encoded data removed]",
      "text/plain": [
       "<Figure size 1080x360 with 1 Axes>"
      ]
     },
     "metadata": {},
     "output_type": "display_data"
    }
   ],
   "source": [
    "labels = [\"Answered\",\"Not Answered\"]\n",
    "sizes = [answered,not_answered]\n",
    "plt.pie(sizes,autopct='%1.1f%%',startangle=90,pctdistance=0.9,labels=labels)\n",
    "plt.title(\"Response Percent for PRs\")\n",
    "plt.tight_layout()\n",
    "plt.show()"
   ]
  },
  {
   "cell_type": "markdown",
   "id": "8875e923-3332-4596-a6f8-09c29eaf2111",
   "metadata": {},
   "source": [
    "From the above pie chart, we see that ~74% of the PRs response in the `augur` repo were not answered."
   ]
  },
  {
   "cell_type": "markdown",
   "id": "41115553-4d5f-4a1c-8634-43b5f7bd6d3e",
   "metadata": {},
   "source": [
    "### Pie Chart: Bot Percent\n",
    "\n",
    "We can visualize the amount of first resopnses by bots by plotting a pie chart. There is not a direct way of doing this so we are taking the time of how quickly bots normally respond to a PR. This is a naive approach and will be iterated on"
   ]
  },
  {
   "cell_type": "code",
   "execution_count": 27,
   "id": "3395dd57-0068-435c-975f-7b2421c4c300",
   "metadata": {},
   "outputs": [],
   "source": [
    "df_pr_comments_focus['time_to_response'] = (df_pr_comments_focus.msg_time - df_pr_comments_focus.pr_created_at)\n",
    "#df_pr_comments_focus = df_pr_comments_focus[df_pr_comments_focus['time_to_response'] >= pd.Timedelta(0)]"
   ]
  },
  {
   "cell_type": "code",
   "execution_count": 28,
   "id": "43e3210c-74ac-426f-9765-5a4ef5212ea0",
   "metadata": {},
   "outputs": [],
   "source": [
    "df_pr_bot = df_pr_comments_focus[df_pr_comments_focus['time_to_response'] <= pd.Timedelta(21,unit='m')]"
   ]
  },
  {
   "cell_type": "code",
   "execution_count": 29,
   "id": "b1b58fe9-414d-493d-a483-89d7c99e5a51",
   "metadata": {},
   "outputs": [],
   "source": [
    "people = df_pr_comments_focus.shape[0]-df_pr_bot.shape[0]\n",
    "bots = df_pr_bot.shape[0]"
   ]
  },
  {
   "cell_type": "code",
   "execution_count": 30,
   "id": "9940d5ea-ab90-402c-b17f-573d2e08dc06",
   "metadata": {},
   "outputs": [
    {
     "data": {
      "image/png": "[encoded data removed]",
      "text/plain": [
       "<Figure size 1080x360 with 1 Axes>"
      ]
     },
     "metadata": {},
     "output_type": "display_data"
    }
   ],
   "source": [
    "labels = [\"People\",\"Bots\"]\n",
    "sizes = [people,bots]\n",
    "plt.pie(sizes,autopct='%1.1f%%',startangle=90,pctdistance=0.9,labels=labels)\n",
    "plt.title(\"Response Percent for Bots\")\n",
    "plt.tight_layout()\n",
    "plt.show()"
   ]
  },
  {
   "cell_type": "markdown",
   "id": "d4f7987a-af92-46d4-ae3c-5c43bc2c3606",
   "metadata": {},
   "source": [
    "### Bar Chart: Mean Time To First Reponse"
   ]
  },
  {
   "cell_type": "code",
   "execution_count": 31,
   "id": "9c839ce6-d4fb-4657-8bcd-6a2d7f3c5b3b",
   "metadata": {},
   "outputs": [],
   "source": [
    "df_pr_comments_monthly = df_pr_comments_focus['time_to_response'].groupby(df_pr_comments_focus.pr_created_at.dt.to_period(\"M\")).agg('mean')"
   ]
  },
  {
   "cell_type": "markdown",
   "id": "be48b319-ce37-4f1d-8ac8-71fa22494580",
   "metadata": {},
   "source": [
    "#### Time Granularity and Normalization"
   ]
  },
  {
   "cell_type": "markdown",
   "id": "8dafec90-222d-468c-8413-cdbc1d1bfc5c",
   "metadata": {},
   "source": [
    "We can visualize the trend in median time of first response by month. However, in order to best capture all the median values including the outliers we can normalize the data by taking the `log` of the values before plotting. We should also consider the level of granularity we would like to capture and visualize the median time in i.e. days vs hours vs minutes vs seconds."
   ]
  },
  {
   "cell_type": "markdown",
   "id": "a36ec696-3180-45e9-8fc9-c0a5939f4bef",
   "metadata": {},
   "source": [
    "Let us first consider the different levels of granularity for the mean time to first response."
   ]
  },
  {
   "cell_type": "code",
   "execution_count": 32,
   "id": "2046f463-93d4-42eb-95c1-9f050e47f70d",
   "metadata": {
    "ExecuteTime": {
     "end_time": "2021-09-16T16:59:13.194732Z",
     "start_time": "2021-09-16T16:59:13.191243Z"
    }
   },
   "outputs": [],
   "source": [
    "# days\n",
    "df_pr_comments_monthly_days = df_pr_comments_monthly.astype('timedelta64[D]')\n",
    "# hours\n",
    "df_pr_comments_monthly_hours = df_pr_comments_monthly.astype('timedelta64[h]')\n",
    "# minutes\n",
    "df_pr_comments_monthly_minutes = df_pr_comments_monthly.astype('timedelta64[m]')\n",
    "# seconds\n",
    "df_pr_comments_monthly_seconds = df_pr_comments_monthly.astype('timedelta64[s]')"
   ]
  },
  {
   "cell_type": "markdown",
   "id": "e338bdb2-2199-423b-890e-c84520859502",
   "metadata": {},
   "source": [
    "We can now proceed to normalizing the values"
   ]
  },
  {
   "cell_type": "code",
   "execution_count": 33,
   "id": "2e738b89-00a2-40e7-84c0-340c7c748909",
   "metadata": {},
   "outputs": [],
   "source": [
    "df_pr_comments_monthly_days_norm = np.log(df_pr_comments_monthly_days)\n",
    "df_pr_comments_monthly_hours_norm = np.log(df_pr_comments_monthly_hours)\n",
    "df_pr_comments_monthly_minutes_norm = np.log(df_pr_comments_monthly_minutes)\n",
    "df_pr_comments_monthly_seconds_norm = np.log(df_pr_comments_monthly_seconds)"
   ]
  },
  {
   "cell_type": "markdown",
   "id": "a3334f20-05e8-4add-948d-49902437d82c",
   "metadata": {},
   "source": [
    "We will now consider the different granularity levels of time i.e. days, hours, minutes and seconds and plot the mean time to first response grouped by months."
   ]
  },
  {
   "cell_type": "markdown",
   "id": "52249d06-39e0-4f8f-8bd3-2aade6224d73",
   "metadata": {},
   "source": [
    "#### Mean Time in Days"
   ]
  },
  {
   "cell_type": "code",
   "execution_count": 34,
   "id": "d7668281-6587-43d2-a027-7c93bb61e17e",
   "metadata": {
    "tags": []
   },
   "outputs": [
    {
     "data": {
      "image/png": "[encoded data removed]",
      "text/plain": [
       "<Figure size 1080x360 with 1 Axes>"
      ]
     },
     "metadata": {
      "needs_background": "light"
     },
     "output_type": "display_data"
    }
   ],
   "source": [
    "df_pr_comments_monthly_days_norm.plot.bar()\n",
    "plt.xlabel(\"Month\")\n",
    "plt.ylabel(\"Mean time to first response (log days)\")\n",
    "plt.title(\"Mean Time to First Response (Monthly)\")\n",
    "plt.show()"
   ]
  },
  {
   "cell_type": "markdown",
   "id": "22b352cd-a821-4313-ac47-477338492473",
   "metadata": {},
   "source": [
    "From the above graph we see that there are a few missing values which can be misleading, hence its worthwhile to explore the mean time in other time units such as hours, seconds or minutes."
   ]
  },
  {
   "cell_type": "markdown",
   "id": "5ffba2d0-f71f-4a88-8545-cde79db421f1",
   "metadata": {},
   "source": [
    "#### Mean Time in Hours"
   ]
  },
  {
   "cell_type": "code",
   "execution_count": 35,
   "id": "8741eee2-4998-4359-8e47-28076a75931a",
   "metadata": {},
   "outputs": [
    {
     "data": {
      "image/png": "[encoded data removed]",
      "text/plain": [
       "<Figure size 1080x360 with 1 Axes>"
      ]
     },
     "metadata": {
      "needs_background": "light"
     },
     "output_type": "display_data"
    }
   ],
   "source": [
    "df_pr_comments_monthly_hours_norm.plot.bar()\n",
    "plt.xlabel(\"Month\")\n",
    "plt.ylabel(\"Mean time to first response (log hours)\")\n",
    "plt.title(\"Mean Time to First Response (Monthly)\")\n",
    "plt.show()"
   ]
  },
  {
   "cell_type": "markdown",
   "id": "b3b931b8-4e82-4494-8d9e-3f4148d0c960",
   "metadata": {},
   "source": [
    "#### Mean Time in Minutes"
   ]
  },
  {
   "cell_type": "code",
   "execution_count": 36,
   "id": "25cf9ffe-9e8c-4377-98c4-ccc7ef2d2e07",
   "metadata": {},
   "outputs": [
    {
     "data": {
      "image/png": "[encoded data removed]",
      "text/plain": [
       "<Figure size 1080x360 with 1 Axes>"
      ]
     },
     "metadata": {
      "needs_background": "light"
     },
     "output_type": "display_data"
    }
   ],
   "source": [
    "df_pr_comments_monthly_minutes_norm.plot.bar()\n",
    "plt.xlabel(\"Month\")\n",
    "plt.ylabel(\"Mean time to first response (log minutes)\")\n",
    "plt.title(\"Mean Time to First Response (Monthly)\")\n",
    "plt.show()"
   ]
  },
  {
   "cell_type": "markdown",
   "id": "2e3ed1b6-ea4a-43db-9035-679affab170d",
   "metadata": {},
   "source": [
    "#### Mean Time in Seconds"
   ]
  },
  {
   "cell_type": "code",
   "execution_count": 37,
   "id": "4c3b01d3-b826-4af7-b6f3-8eb607ab4144",
   "metadata": {},
   "outputs": [
    {
     "data": {
      "image/png": "[encoded data removed]",
      "text/plain": [
       "<Figure size 1080x360 with 1 Axes>"
      ]
     },
     "metadata": {
      "needs_background": "light"
     },
     "output_type": "display_data"
    }
   ],
   "source": [
    "df_pr_comments_monthly_seconds_norm.plot.bar()\n",
    "plt.xlabel(\"Month\")\n",
    "plt.ylabel(\"Mean time to first response (log seconds)\")\n",
    "plt.title(\"Mean Time to First Response (Monthly)\")\n",
    "plt.show()"
   ]
  },
  {
   "cell_type": "code",
   "execution_count": 38,
   "id": "9b2c04a2-68aa-44cf-a949-630ca0e996d2",
   "metadata": {},
   "outputs": [
    {
     "data": {
      "text/html": [
       "<div>\n",
       "<style scoped>\n",
       "    .dataframe tbody tr th:only-of-type {\n",
       "        vertical-align: middle;\n",
       "    }\n",
       "\n",
       "    .dataframe tbody tr th {\n",
       "        vertical-align: top;\n",
       "    }\n",
       "\n",
       "    .dataframe thead th {\n",
       "        text-align: right;\n",
       "    }\n",
       "</style>\n",
       "<table border=\"1\" class=\"dataframe\">\n",
       "  <thead>\n",
       "    <tr style=\"text-align: right;\">\n",
       "      <th></th>\n",
       "      <th>pull_request_id</th>\n",
       "      <th>pr_msg_ref_id</th>\n",
       "      <th>time_to_response</th>\n",
       "    </tr>\n",
       "  </thead>\n",
       "  <tbody>\n",
       "    <tr>\n",
       "      <th>count</th>\n",
       "      <td>304.000000</td>\n",
       "      <td>304.000000</td>\n",
       "      <td>304</td>\n",
       "    </tr>\n",
       "    <tr>\n",
       "      <th>mean</th>\n",
       "      <td>27531.365132</td>\n",
       "      <td>33495.388158</td>\n",
       "      <td>0 days 00:10:51.828947368</td>\n",
       "    </tr>\n",
       "    <tr>\n",
       "      <th>std</th>\n",
       "      <td>123.584640</td>\n",
       "      <td>158.265205</td>\n",
       "      <td>0 days 01:03:11.206954950</td>\n",
       "    </tr>\n",
       "    <tr>\n",
       "      <th>min</th>\n",
       "      <td>27283.000000</td>\n",
       "      <td>33243.000000</td>\n",
       "      <td>0 days 00:00:11</td>\n",
       "    </tr>\n",
       "    <tr>\n",
       "      <th>25%</th>\n",
       "      <td>27439.750000</td>\n",
       "      <td>33355.750000</td>\n",
       "      <td>0 days 00:00:14</td>\n",
       "    </tr>\n",
       "    <tr>\n",
       "      <th>50%</th>\n",
       "      <td>27545.500000</td>\n",
       "      <td>33475.000000</td>\n",
       "      <td>0 days 00:00:16</td>\n",
       "    </tr>\n",
       "    <tr>\n",
       "      <th>75%</th>\n",
       "      <td>27642.250000</td>\n",
       "      <td>33634.250000</td>\n",
       "      <td>0 days 00:08:59.500000</td>\n",
       "    </tr>\n",
       "    <tr>\n",
       "      <th>max</th>\n",
       "      <td>27722.000000</td>\n",
       "      <td>33786.000000</td>\n",
       "      <td>0 days 16:54:09</td>\n",
       "    </tr>\n",
       "  </tbody>\n",
       "</table>\n",
       "</div>"
      ],
      "text/plain": [
       "       pull_request_id  pr_msg_ref_id           time_to_response\n",
       "count       304.000000     304.000000                        304\n",
       "mean      27531.365132   33495.388158  0 days 00:10:51.828947368\n",
       "std         123.584640     158.265205  0 days 01:03:11.206954950\n",
       "min       27283.000000   33243.000000            0 days 00:00:11\n",
       "25%       27439.750000   33355.750000            0 days 00:00:14\n",
       "50%       27545.500000   33475.000000            0 days 00:00:16\n",
       "75%       27642.250000   33634.250000     0 days 00:08:59.500000\n",
       "max       27722.000000   33786.000000            0 days 16:54:09"
      ]
     },
     "execution_count": 38,
     "metadata": {},
     "output_type": "execute_result"
    }
   ],
   "source": [
    "df_pr_comments_focus.describe()"
   ]
  },
  {
   "cell_type": "markdown",
   "id": "d851a165-6cde-4df2-9c77-bd133e5f7657",
   "metadata": {},
   "source": [
    "## Conclusion\n",
    "\n",
    "In this notebook we have visualized some of the performance metrics measured for GitHub PRs and considered different time granularity levels such as days, hours, minutes and seconds to gain a better understanding of the metrics behavior."
   ]
  }
 ],
 "metadata": {
  "kernelspec": {
   "display_name": "Python 3",
   "language": "python",
   "name": "python3"
  },
  "language_info": {
   "codemirror_mode": {
    "name": "ipython",
    "version": 3
   },
   "file_extension": ".py",
   "mimetype": "text/x-python",
   "name": "python",
   "nbconvert_exporter": "python",
   "pygments_lexer": "ipython3",
   "version": "3.8.6"
  }
 },
 "nbformat": 4,
 "nbformat_minor": 5
}
